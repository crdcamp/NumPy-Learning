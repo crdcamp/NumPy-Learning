{
 "cells": [
  {
   "cell_type": "markdown",
   "id": "97c5bce6",
   "metadata": {},
   "source": [
    "# Deep Learning on MNIST\n",
    "\n",
    "[Resource](https://numpy.org/numpy-tutorials/content/tutorial-deep-learning-on-mnist.html)\n",
    "\n",
    "This tutorial demonstrates how to build a simple **feedforward neural network** (with one hidden layer) and train it from scratch with NumPy to recognize handwritten digit images."
   ]
  },
  {
   "cell_type": "markdown",
   "id": "910a529b",
   "metadata": {},
   "source": [
    "# Before We Begin\n",
    "\n",
    "Feedforward refers to recognition-inference architecture of neural networks. As you already know, artificial neural networks architectures are based on inputs multiplied by weights to obtain outputs.\n",
    "\n",
    "On the other hand, recurrent neural networks, or neural networks with loops, allow information from later processing stages to feed back to earlier stages for sequence processing. However, at every stage of inference a feedforward multiplication remains the core, essential for backpropagation.\n",
    "\n",
    "Thus, neural networks cannot contain feedback like negative feedback or positive feedback where the outputs feed back to the very same inputs and modify them, as this will form an infinite loop.\n",
    "\n",
    "Essentially, it's not possible to rewind in time to generate an error signal through backpropagation."
   ]
  },
  {
   "cell_type": "markdown",
   "id": "d4c5640e",
   "metadata": {},
   "source": [
    "# Continuing with the lesson\n",
    "\n",
    "Your deep learning model - one of the most basic artificial neural networks that resembles the original multi-layer perceptron - will learn to classify digits from 0 to 9 from the MNIST dataset.\n",
    "\n",
    "The dataset contains 60,000 training and 10,000 test images and corresponding labels. Each training and test image is of size 784 (or 28x28 pixels) - this will be your input for the neural network.\n",
    "\n",
    "Based on the image inputs and their labels (supervised learning), your neural network will be trained to learn their features using forward propagation and backpropagation (reverse-mode differentiation). The final output of the network is a vector of 10 scores - one for each handwritten digit image. You will also be evaluate how good your model is at classifying the images on the test set."
   ]
  },
  {
   "cell_type": "markdown",
   "id": "ab872e1b",
   "metadata": {},
   "source": [
    "# Load the MNIST Dataset\n",
    "\n",
    "In this section, you will download the zipped MNIST dataset files. Then, you will transform them into 4 files of NumPy array type using built-in Python modules. Finally, you will split the arrays into training and test sets.\n",
    "\n",
    "1) Define a variable to store the training/test image/label names of the MNIST dataset in the list:"
   ]
  },
  {
   "cell_type": "code",
   "execution_count": 4,
   "id": "0b351f70",
   "metadata": {},
   "outputs": [],
   "source": [
    "data_sources = {\n",
    "    \"training_images\": \"train-images-idx3-ubyte.gz\",  # 60,000 training images.\n",
    "    \"test_images\": \"t10k-images-idx3-ubyte.gz\",  # 10,000 test images.\n",
    "    \"training_labels\": \"train-labels-idx1-ubyte.gz\",  # 60,000 training labels.\n",
    "    \"test_labels\": \"t10k-labels-idx1-ubyte.gz\",  # 10,000 test labels.\n",
    "}"
   ]
  },
  {
   "cell_type": "markdown",
   "id": "b801989c",
   "metadata": {},
   "source": [
    "2) Load the data. First check if the data is stored locally; if not, then download it."
   ]
  },
  {
   "cell_type": "code",
   "execution_count": 8,
   "id": "7a05a50d",
   "metadata": {},
   "outputs": [
    {
     "name": "stdout",
     "output_type": "stream",
     "text": [
      "Downloading file: train-images-idx3-ubyte.gz\n",
      "Downloading file: t10k-images-idx3-ubyte.gz\n",
      "Downloading file: train-labels-idx1-ubyte.gz\n",
      "Downloading file: t10k-labels-idx1-ubyte.gz\n"
     ]
    }
   ],
   "source": [
    "import requests\n",
    "import os\n",
    "\n",
    "data_dir = \"data\"\n",
    "os.makedirs(data_dir, exist_ok=True)\n",
    "\n",
    "base_url = \"https://ossci-datasets.s3.amazonaws.com/mnist/\"\n",
    "\n",
    "for fname in data_sources.values():\n",
    "    fpath = os.path.join(data_dir, fname)\n",
    "    if not os.path.exists(fpath):\n",
    "        print(\"Downloading file: \" + fname)\n",
    "        resp = requests.get(base_url + fname, stream=True)\n",
    "        resp.raise_for_status()\n",
    "        with open(fpath, \"wb\") as fh:\n",
    "            for chunk in resp.iter_content(chunk_size=128):\n",
    "                fh.write(chunk)"
   ]
  },
  {
   "cell_type": "markdown",
   "id": "da44bf6a",
   "metadata": {},
   "source": [
    "3) Decompress the 4 files and create 4 `ndarrays`, saving them into a dictionary. Each original image is of size 28x28 and neural networks normally expect a 1D vector input; therefore, you also need to reshape the images by multiplying 28 by 28 (784)."
   ]
  },
  {
   "cell_type": "code",
   "execution_count": 11,
   "id": "56ae416e",
   "metadata": {},
   "outputs": [],
   "source": [
    "import gzip\n",
    "import numpy as np\n",
    "\n",
    "mnist_dataset = {}\n",
    "\n",
    "# Images\n",
    "for key in (\"training_images\", \"test_images\"):\n",
    "    with gzip.open(os.path.join(data_dir, data_sources[key]), \"rb\") as mnist_file:\n",
    "        mnist_dataset[key] = np.frombuffer(\n",
    "            mnist_file.read(), np.uint8, offset=16\n",
    "        ).reshape(-1, 28 * 28)\n",
    "# Labels\n",
    "for key in (\"training_labels\", \"test_labels\"):\n",
    "    with gzip.open(os.path.join(data_dir, data_sources[key]), \"rb\") as mnist_file:\n",
    "        mnist_dataset[key] = np.frombuffer(mnist_file.read(), np.uint8, offset=8)"
   ]
  },
  {
   "cell_type": "markdown",
   "id": "fcade691",
   "metadata": {},
   "source": [
    "4) Split the data into training and test sets using the standard notation of `x` for data and `y` for labels, calling the training and test set images `x_train` and `x_test`, and the labels `y_train` and `y_test`:"
   ]
  }
 ],
 "metadata": {
  "kernelspec": {
   "display_name": "learning",
   "language": "python",
   "name": "python3"
  },
  "language_info": {
   "codemirror_mode": {
    "name": "ipython",
    "version": 3
   },
   "file_extension": ".py",
   "mimetype": "text/x-python",
   "name": "python",
   "nbconvert_exporter": "python",
   "pygments_lexer": "ipython3",
   "version": "3.13.5"
  }
 },
 "nbformat": 4,
 "nbformat_minor": 5
}
