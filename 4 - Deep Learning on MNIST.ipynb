{
 "cells": [
  {
   "cell_type": "markdown",
   "id": "97c5bce6",
   "metadata": {},
   "source": [
    "# Deep Learning on MNIST\n",
    "\n",
    "[Resource](https://numpy.org/numpy-tutorials/content/tutorial-deep-learning-on-mnist.html)\n",
    "\n",
    "This tutorial demonstrates how to build a simple **feedforward neural network** (with one hidden layer) and train it from scratch with NumPy to recognize handwritten digit images."
   ]
  },
  {
   "cell_type": "markdown",
   "id": "910a529b",
   "metadata": {},
   "source": [
    "# Before We Begin\n",
    "\n",
    "Feedforward refers to recognition-inference architecture of neural networks. As you already know, artificial neural networks architectures are based on inputs multiplied by weights to obtain outputs.\n",
    "\n",
    "On the other hand, recurrent neural networks, or neural networks with loops, allow information from later processing stages to feed back to earlier stages for sequence processing. However, at every stage of inference a feedforward multiplication remains the core, essential for backpropagation.\n",
    "\n",
    "Thus, neural networks cannot contain feedback like negative feedback or positive feedback where the outputs feed back to the very same inputs and modify them, as this will form an infinite loop.\n",
    "\n",
    "Essentially, it's not possible to rewind in time to generate an error signal through backpropagation."
   ]
  },
  {
   "cell_type": "markdown",
   "id": "d4c5640e",
   "metadata": {},
   "source": [
    "# Continuing with the lesson\n",
    "\n",
    "Your deep learning model - one of the most basic artificial neural networks that resembles the original multi-layer perceptron - will learn to classify digits from 0 to 9 from the MNIST dataset.\n",
    "\n",
    "The dataset contains 60,000 training and 10,000 test images and corresponding labels. Each training and test image is of size 784 (or 28x28 pixels) - this will be your input for the neural network.\n",
    "\n",
    "Based on the image inputs and their labels (supervised learning), your neural network will be trained to learn their features using forward propagation and backpropagation (reverse-mode differentiation). The final output of the network is a vector of 10 scores - one for each handwritten digit image. You will also be evaluate how good your model is at classifying the images on the test set."
   ]
  },
  {
   "cell_type": "markdown",
   "id": "ab872e1b",
   "metadata": {},
   "source": [
    "# Load the MNIST Dataset\n",
    "\n",
    "In this section, you will download the zipped MNIST dataset files. Then, you will transform them into 4 files of NumPy array type using built-in Python modules. Finally, you will split the arrays into training and test sets.\n",
    "\n",
    "1) Define a variable to store the training/test image/label names of the MNIST dataset in the list:"
   ]
  },
  {
   "cell_type": "code",
   "execution_count": 170,
   "id": "0b351f70",
   "metadata": {},
   "outputs": [],
   "source": [
    "data_sources = {\n",
    "    \"training_images\": \"train-images-idx3-ubyte.gz\",  # 60,000 training images.\n",
    "    \"test_images\": \"t10k-images-idx3-ubyte.gz\",  # 10,000 test images.\n",
    "    \"training_labels\": \"train-labels-idx1-ubyte.gz\",  # 60,000 training labels.\n",
    "    \"test_labels\": \"t10k-labels-idx1-ubyte.gz\",  # 10,000 test labels.\n",
    "}"
   ]
  },
  {
   "cell_type": "markdown",
   "id": "b801989c",
   "metadata": {},
   "source": [
    "2) Load the data. First check if the data is stored locally; if not, then download it."
   ]
  },
  {
   "cell_type": "code",
   "execution_count": 171,
   "id": "7a05a50d",
   "metadata": {},
   "outputs": [],
   "source": [
    "import requests\n",
    "import os\n",
    "\n",
    "data_dir = \"data\"\n",
    "os.makedirs(data_dir, exist_ok=True)\n",
    "\n",
    "base_url = \"https://ossci-datasets.s3.amazonaws.com/mnist/\"\n",
    "\n",
    "for fname in data_sources.values():\n",
    "    fpath = os.path.join(data_dir, fname)\n",
    "    if not os.path.exists(fpath):\n",
    "        print(\"Downloading file: \" + fname)\n",
    "        resp = requests.get(base_url + fname, stream=True)\n",
    "        resp.raise_for_status()\n",
    "        with open(fpath, \"wb\") as fh:\n",
    "            for chunk in resp.iter_content(chunk_size=128):\n",
    "                fh.write(chunk)"
   ]
  },
  {
   "cell_type": "markdown",
   "id": "da44bf6a",
   "metadata": {},
   "source": [
    "3) Decompress the 4 files and create 4 `ndarrays`, saving them into a dictionary. Each original image is of size 28x28 and neural networks normally expect a 1D vector input; therefore, you also need to reshape the images by multiplying 28 by 28 (784)."
   ]
  },
  {
   "cell_type": "code",
   "execution_count": 172,
   "id": "56ae416e",
   "metadata": {},
   "outputs": [],
   "source": [
    "import gzip\n",
    "import numpy as np\n",
    "\n",
    "mnist_dataset = {}\n",
    "\n",
    "# Images\n",
    "for key in (\"training_images\", \"test_images\"):\n",
    "    with gzip.open(os.path.join(data_dir, data_sources[key]), \"rb\") as mnist_file:\n",
    "        mnist_dataset[key] = np.frombuffer(\n",
    "            mnist_file.read(), np.uint8, offset=16\n",
    "        ).reshape(-1, 28 * 28)\n",
    "# Labels\n",
    "for key in (\"training_labels\", \"test_labels\"):\n",
    "    with gzip.open(os.path.join(data_dir, data_sources[key]), \"rb\") as mnist_file:\n",
    "        mnist_dataset[key] = np.frombuffer(mnist_file.read(), np.uint8, offset=8)"
   ]
  },
  {
   "cell_type": "markdown",
   "id": "fcade691",
   "metadata": {},
   "source": [
    "4) Split the data into training and test sets using the standard notation of `x` for data and `y` for labels, calling the training and test set images `x_train` and `x_test`, and the labels `y_train` and `y_test`:"
   ]
  },
  {
   "cell_type": "code",
   "execution_count": 173,
   "id": "d5c392ec",
   "metadata": {},
   "outputs": [],
   "source": [
    "x_train, y_train, x_test, y_test = (\n",
    "    mnist_dataset[\"training_images\"],\n",
    "    mnist_dataset[\"training_labels\"],\n",
    "    mnist_dataset[\"test_images\"],\n",
    "    mnist_dataset[\"test_labels\"],\n",
    ")"
   ]
  },
  {
   "cell_type": "markdown",
   "id": "0746d8a4",
   "metadata": {},
   "source": [
    "5) You can confirm that the shape of the image array is `(60000, 784)` and `(10000, 784)` for training and test sets, respectively, and the labels - `(60000,)` and `(10000, )`:"
   ]
  },
  {
   "cell_type": "code",
   "execution_count": 174,
   "id": "46436f87",
   "metadata": {},
   "outputs": [
    {
     "name": "stdout",
     "output_type": "stream",
     "text": [
      "The shape of training images: (60000, 784) and training labels: (60000,)\n",
      "The shape of test images: (10000, 784) and test labels: (10000,)\n"
     ]
    }
   ],
   "source": [
    "print(\n",
    "    f\"The shape of training images: {x_train.shape} and training labels: {y_train.shape}\"\n",
    "    )\n",
    "\n",
    "print(\n",
    "    f\"The shape of test images: {x_test.shape} and test labels: {y_test.shape}\"\n",
    ")"
   ]
  },
  {
   "cell_type": "markdown",
   "id": "47b2fc8b",
   "metadata": {},
   "source": [
    "6) And you can inspect some images using Matplotlib:"
   ]
  },
  {
   "cell_type": "code",
   "execution_count": 175,
   "id": "6e002ca4",
   "metadata": {},
   "outputs": [
    {
     "data": {
      "image/png": "[encoded data removed]",
      "text/plain": [
       "<Figure size 640x480 with 1 Axes>"
      ]
     },
     "metadata": {},
     "output_type": "display_data"
    }
   ],
   "source": [
    "import matplotlib.pyplot as plt\n",
    "\n",
    "# Take the 60,000th image (indexed at 59,999) from the training set,\n",
    "# reshape from (784, ) to (28, 28) to have a valid shape for displaying purposes.\n",
    "mnist_image = x_train[59999, :].reshape(28, 28)\n",
    "# Set the color mapping to grayscale to have a black background.\n",
    "plt.imshow(mnist_image, cmap=\"gray\")\n",
    "# Display the image.\n",
    "plt.show()"
   ]
  },
  {
   "cell_type": "code",
   "execution_count": 176,
   "id": "04b923e9",
   "metadata": {},
   "outputs": [
    {
     "data": {
      "image/png": "[encoded data removed]",
      "text/plain": [
       "<Figure size 640x480 with 5 Axes>"
      ]
     },
     "metadata": {},
     "output_type": "display_data"
    }
   ],
   "source": [
    "# Display 5 random images from the training set\n",
    "num_examples = 5\n",
    "seed = 147197952744\n",
    "rng = np.random.default_rng(seed)\n",
    "\n",
    "fig, axes = plt.subplots(1, num_examples)\n",
    "for sample, ax in zip(rng.choice(x_train, size=num_examples, replace=False), axes):\n",
    "    ax.imshow(sample.reshape(28, 28), cmap=\"gray\")"
   ]
  },
  {
   "cell_type": "markdown",
   "id": "d3ff2e23",
   "metadata": {},
   "source": [
    "Above are five 3images from the MNIST training set. Various hand-drawn Arabic numerals are shows, with exact values chosen randomly with each run of the code."
   ]
  },
  {
   "cell_type": "markdown",
   "id": "839b9417",
   "metadata": {},
   "source": [
    "**Note:** You can also visualize a sample image as an array by printing `x_train[59999]`. Here, `59999` is your 60,000th training image sample. Your output will be quite long and should contain an array of 8-bit integers:"
   ]
  },
  {
   "cell_type": "code",
   "execution_count": 177,
   "id": "7b817dfc",
   "metadata": {},
   "outputs": [
    {
     "data": {
      "text/plain": [
       "array([  0,   0,   0,   0,   0,   0,   0,   0,   0,   0,   0,   0,   0,\n",
       "         0,   0,   0,   0,   0,   0,   0,   0,   0,   0,   0,   0,   0,\n",
       "         0,   0,   0,   0,   0,   0,   0,   0,   0,   0,   0,   0,   0,\n",
       "         0,   0,   0,   0,   0,   0,   0,   0,   0,   0,   0,   0,   0,\n",
       "         0,   0,   0,   0,   0,   0,   0,   0,   0,   0,   0,   0,   0,\n",
       "         0,   0,   0,   0,   0,   0,   0,   0,   0,   0,   0,   0,   0,\n",
       "         0,   0,   0,   0,   0,   0,   0,   0,   0,   0,   0,   0,   0,\n",
       "         0,   0,   0,   0,   0,   0,   0,   0,   0,   0,   0,   0,   0,\n",
       "         0,   0,   0,   0,   0,   0,   0,   0,   0,   0,   0,   0,   0,\n",
       "         0,   0,   0,   0,   0,   0,   0,   0,   0,   0,   0,   0,   0,\n",
       "         0,   0,   0,   0,   0,   0,   0,   0,   0,   0,   0,   0,   0,\n",
       "         0,   0,   0,   0,   0,   0,   0,   0,   0,   0,   0,   0,   0,\n",
       "         0,   0,   0,   0,   0,   0,   0,   0,   0,   0,   0,   0,   0,\n",
       "         0,   0,   0,   0,   0,   0,   0,   0,   0,   0,   0,   0,   0,\n",
       "         0,   0,  38,  48,  48,  22,   0,   0,   0,   0,   0,   0,   0,\n",
       "         0,   0,   0,   0,   0,   0,   0,   0,   0,   0,   0,   0,   0,\n",
       "         0,  62,  97, 198, 243, 254, 254, 212,  27,   0,   0,   0,   0,\n",
       "         0,   0,   0,   0,   0,   0,   0,   0,   0,   0,   0,   0,   0,\n",
       "         0,   0,  67, 172, 254, 254, 225, 218, 218, 237, 248,  40,   0,\n",
       "        21, 164, 187,   0,   0,   0,   0,   0,   0,   0,   0,   0,   0,\n",
       "         0,   0,   0,  89, 219, 254,  97,  67,  14,   0,   0,  92, 231,\n",
       "       122,  23, 203, 236,  59,   0,   0,   0,   0,   0,   0,   0,   0,\n",
       "         0,   0,   0,   0,  25, 217, 242,  92,   4,   0,   0,   0,   0,\n",
       "         4, 147, 253, 240, 232,  92,   0,   0,   0,   0,   0,   0,   0,\n",
       "         0,   0,   0,   0,   0,   0, 101, 255,  92,   0,   0,   0,   0,\n",
       "         0,   0, 105, 254, 254, 177,  11,   0,   0,   0,   0,   0,   0,\n",
       "         0,   0,   0,   0,   0,   0,   0,   0, 167, 244,  41,   0,   0,\n",
       "         0,   7,  76, 199, 238, 239,  94,  10,   0,   0,   0,   0,   0,\n",
       "         0,   0,   0,   0,   0,   0,   0,   0,   0,   0, 192, 121,   0,\n",
       "         0,   2,  63, 180, 254, 233, 126,   0,   0,   0,   0,   0,   0,\n",
       "         0,   0,   0,   0,   0,   0,   0,   0,   0,   0,   0,   0, 190,\n",
       "       196,  14,   2,  97, 254, 252, 146,  52,   0,   0,   0,   0,   0,\n",
       "         0,   0,   0,   0,   0,   0,   0,   0,   0,   0,   0,   0,   0,\n",
       "         0, 130, 225,  71, 180, 232, 181,  60,   0,   0,   0,   0,   0,\n",
       "         0,   0,   0,   0,   0,   0,   0,   0,   0,   0,   0,   0,   0,\n",
       "         0,   0,   0, 130, 254, 254, 230,  46,   0,   0,   0,   0,   0,\n",
       "         0,   0,   0,   0,   0,   0,   0,   0,   0,   0,   0,   0,   0,\n",
       "         0,   0,   0,   6,  77, 244, 254, 162,   4,   0,   0,   0,   0,\n",
       "         0,   0,   0,   0,   0,   0,   0,   0,   0,   0,   0,   0,   0,\n",
       "         0,   0,   0,   0,   0, 110, 254, 218, 254, 116,   0,   0,   0,\n",
       "         0,   0,   0,   0,   0,   0,   0,   0,   0,   0,   0,   0,   0,\n",
       "         0,   0,   0,   0,   0,   0, 131, 254, 154,  28, 213,  86,   0,\n",
       "         0,   0,   0,   0,   0,   0,   0,   0,   0,   0,   0,   0,   0,\n",
       "         0,   0,   0,   0,   0,   0,   0,  66, 209, 153,  19,  19, 233,\n",
       "        60,   0,   0,   0,   0,   0,   0,   0,   0,   0,   0,   0,   0,\n",
       "         0,   0,   0,   0,   0,   0,   0,   0,   0, 142, 254, 165,   0,\n",
       "        14, 216, 167,   0,   0,   0,   0,   0,   0,   0,   0,   0,   0,\n",
       "         0,   0,   0,   0,   0,   0,   0,   0,   0,   0,   0,  90, 254,\n",
       "       175,   0,  18, 229,  92,   0,   0,   0,   0,   0,   0,   0,   0,\n",
       "         0,   0,   0,   0,   0,   0,   0,   0,   0,   0,   0,   0,   0,\n",
       "        26, 229, 249, 176, 222, 244,  44,   0,   0,   0,   0,   0,   0,\n",
       "         0,   0,   0,   0,   0,   0,   0,   0,   0,   0,   0,   0,   0,\n",
       "         0,   0,   0,  73, 193, 197, 134,   0,   0,   0,   0,   0,   0,\n",
       "         0,   0,   0,   0,   0,   0,   0,   0,   0,   0,   0,   0,   0,\n",
       "         0,   0,   0,   0,   0,   0,   0,   0,   0,   0,   0,   0,   0,\n",
       "         0,   0,   0,   0,   0,   0,   0,   0,   0,   0,   0,   0,   0,\n",
       "         0,   0,   0,   0,   0,   0,   0,   0,   0,   0,   0,   0,   0,\n",
       "         0,   0,   0,   0,   0,   0,   0,   0,   0,   0,   0,   0,   0,\n",
       "         0,   0,   0,   0,   0,   0,   0,   0,   0,   0,   0,   0,   0,\n",
       "         0,   0,   0,   0,   0,   0,   0,   0,   0,   0,   0,   0,   0,\n",
       "         0,   0,   0,   0], dtype=uint8)"
      ]
     },
     "execution_count": 177,
     "metadata": {},
     "output_type": "execute_result"
    }
   ],
   "source": [
    "x_train[59999]"
   ]
  },
  {
   "cell_type": "code",
   "execution_count": 178,
   "id": "441b823d",
   "metadata": {},
   "outputs": [
    {
     "data": {
      "text/plain": [
       "np.uint8(8)"
      ]
     },
     "execution_count": 178,
     "metadata": {},
     "output_type": "execute_result"
    }
   ],
   "source": [
    "# Display the label of the 60,000th image from the training set\n",
    "y_train[59999]"
   ]
  },
  {
   "cell_type": "markdown",
   "id": "d9daf49c",
   "metadata": {},
   "source": [
    "# Preprocess the Data\n",
    "\n",
    "Neural networks can work with inputs that are in a form of tensors (multidimensional arrays) of floating-point type. When preprocessing the data, you should consider the following processes: vectorization and conversion to a floating-point format.\n",
    "\n",
    "**Vectorization** is simple converting a matrix into one vector.\n",
    "\n",
    "Since the MNIST data is already vectorized and the arrays are of `dtype` `uint8`, your next challenge is to convert them to a floating-point format, such as `float64` (double-precision):\n",
    "\n",
    "- Normalizing the image data: a feature scaling procedure that can speed up the neural network training process by standardizing the distribution of your input data.\n",
    "- One-hot/categorical encoding of the image labels.\n",
    "\n",
    "In practice, you can use different types of floating-point precision depending on your goals and you can find more information about that in the [Nvidia](https://blogs.nvidia.com/blog/2019/11/15/whats-the-difference-between-single-double-multi-and-mixed-precision-computing/) and [Google Cloud](https://cloud.google.com/blog/products/ai-machine-learning/bfloat16-the-secret-to-high-performance-on-cloud-tpus) blog posts."
   ]
  },
  {
   "cell_type": "markdown",
   "id": "b2a5c2f2",
   "metadata": {},
   "source": [
    "## Convert the image data to the floating-point format\n",
    "\n",
    "The images data contain 8-bit integers encoded in the [0, 255] interval with color values between 0 and 255.\n",
    "\n",
    "You will normalize them into floating-point arrays in the [0, 1] interval by dividing them by 255.\n",
    "\n",
    "1) Check that the vectorized image data has type `uint8`:"
   ]
  },
  {
   "cell_type": "code",
   "execution_count": 179,
   "id": "6a1bd712",
   "metadata": {},
   "outputs": [
    {
     "name": "stdout",
     "output_type": "stream",
     "text": [
      "The data type of training images: uint8\n",
      "The data type of test images: uint8\n"
     ]
    }
   ],
   "source": [
    "print(\"The data type of training images: {}\".format(x_train.dtype))\n",
    "print(\"The data type of test images: {}\".format(x_test.dtype))"
   ]
  },
  {
   "cell_type": "markdown",
   "id": "ec2c7486",
   "metadata": {},
   "source": [
    "2) Normalize the arrays by dividing them by 255 (and thus promoting the data type from `uint8` to `float64`) and then assign the train and test image data variables - `x_train` and `x_test` - to `training_images` and `train_labels`, respectively. To reduce the model training and evaluation time in this example, only a subset of the training and test images will be used. Both `training_images` and `test_images` will contain only 1,000 samples each out of the complete datasets of 60,000 and 10,000 images, respectively. These values can be controlled by changing the `training_sample` and `test_sample` below, up to their maximum values of 60,000 and 10,000."
   ]
  },
  {
   "cell_type": "code",
   "execution_count": 180,
   "id": "9d80123a",
   "metadata": {},
   "outputs": [],
   "source": [
    "training_sample, test_sample = 1000, 1000\n",
    "training_images = x_train[0:training_sample] / 255\n",
    "test_images = x_test[0:test_sample] / 255"
   ]
  },
  {
   "cell_type": "markdown",
   "id": "748fa48e",
   "metadata": {},
   "source": [
    "You can also do it this way for a more elegant solution:"
   ]
  },
  {
   "cell_type": "code",
   "execution_count": 181,
   "id": "d55417a6",
   "metadata": {},
   "outputs": [],
   "source": [
    "training_sample, test_sample = 1000, 1000\n",
    "training_images = x_train[0:training_sample] / x_train.max()\n",
    "test_images = x_test[0:test_sample] / x_test.max()"
   ]
  },
  {
   "cell_type": "markdown",
   "id": "a74b4b93",
   "metadata": {},
   "source": [
    "3) Confirm that the image data has changed to the floating-point format:"
   ]
  },
  {
   "cell_type": "code",
   "execution_count": 182,
   "id": "e657fffe",
   "metadata": {},
   "outputs": [
    {
     "name": "stdout",
     "output_type": "stream",
     "text": [
      "The data type of training images: float64\n",
      "The data type of test images: float64\n"
     ]
    }
   ],
   "source": [
    "print(\"The data type of training images: {}\".format(training_images.dtype))\n",
    "print(\"The data type of test images: {}\".format(test_images.dtype))"
   ]
  },
  {
   "cell_type": "markdown",
   "id": "b0eb01c9",
   "metadata": {},
   "source": [
    "**Note:** You can also check that normalization was successful by printing `training_images[0]`. Your output should contain an array of floating-point numbers:"
   ]
  },
  {
   "cell_type": "code",
   "execution_count": 183,
   "id": "1270d905",
   "metadata": {},
   "outputs": [
    {
     "name": "stdout",
     "output_type": "stream",
     "text": [
      "[0.         0.         0.         0.         0.         0.\n",
      " 0.         0.         0.         0.         0.         0.\n",
      " 0.         0.         0.         0.         0.         0.\n",
      " 0.         0.         0.         0.         0.         0.\n",
      " 0.         0.         0.         0.         0.         0.\n",
      " 0.         0.         0.         0.         0.         0.\n",
      " 0.         0.         0.         0.         0.         0.\n",
      " 0.         0.         0.         0.         0.         0.\n",
      " 0.         0.         0.         0.         0.         0.\n",
      " 0.         0.         0.         0.         0.         0.\n",
      " 0.         0.         0.         0.         0.         0.\n",
      " 0.         0.         0.         0.         0.         0.\n",
      " 0.         0.         0.         0.         0.         0.\n",
      " 0.         0.         0.         0.         0.         0.\n",
      " 0.         0.         0.         0.         0.         0.\n",
      " 0.         0.         0.         0.         0.         0.\n",
      " 0.         0.         0.         0.         0.         0.\n",
      " 0.         0.         0.         0.         0.         0.\n",
      " 0.         0.         0.         0.         0.         0.\n",
      " 0.         0.         0.         0.         0.         0.\n",
      " 0.         0.         0.         0.         0.         0.\n",
      " 0.         0.         0.         0.         0.         0.\n",
      " 0.         0.         0.         0.         0.         0.\n",
      " 0.         0.         0.         0.         0.         0.\n",
      " 0.         0.         0.         0.         0.         0.\n",
      " 0.         0.         0.01176471 0.07058824 0.07058824 0.07058824\n",
      " 0.49411765 0.53333333 0.68627451 0.10196078 0.65098039 1.\n",
      " 0.96862745 0.49803922 0.         0.         0.         0.\n",
      " 0.         0.         0.         0.         0.         0.\n",
      " 0.         0.         0.11764706 0.14117647 0.36862745 0.60392157\n",
      " 0.66666667 0.99215686 0.99215686 0.99215686 0.99215686 0.99215686\n",
      " 0.88235294 0.6745098  0.99215686 0.94901961 0.76470588 0.25098039\n",
      " 0.         0.         0.         0.         0.         0.\n",
      " 0.         0.         0.         0.         0.         0.19215686\n",
      " 0.93333333 0.99215686 0.99215686 0.99215686 0.99215686 0.99215686\n",
      " 0.99215686 0.99215686 0.99215686 0.98431373 0.36470588 0.32156863\n",
      " 0.32156863 0.21960784 0.15294118 0.         0.         0.\n",
      " 0.         0.         0.         0.         0.         0.\n",
      " 0.         0.         0.         0.07058824 0.85882353 0.99215686\n",
      " 0.99215686 0.99215686 0.99215686 0.99215686 0.77647059 0.71372549\n",
      " 0.96862745 0.94509804 0.         0.         0.         0.\n",
      " 0.         0.         0.         0.         0.         0.\n",
      " 0.         0.         0.         0.         0.         0.\n",
      " 0.         0.         0.31372549 0.61176471 0.41960784 0.99215686\n",
      " 0.99215686 0.80392157 0.04313725 0.         0.16862745 0.60392157\n",
      " 0.         0.         0.         0.         0.         0.\n",
      " 0.         0.         0.         0.         0.         0.\n",
      " 0.         0.         0.         0.         0.         0.\n",
      " 0.         0.05490196 0.00392157 0.60392157 0.99215686 0.35294118\n",
      " 0.         0.         0.         0.         0.         0.\n",
      " 0.         0.         0.         0.         0.         0.\n",
      " 0.         0.         0.         0.         0.         0.\n",
      " 0.         0.         0.         0.         0.         0.\n",
      " 0.         0.54509804 0.99215686 0.74509804 0.00784314 0.\n",
      " 0.         0.         0.         0.         0.         0.\n",
      " 0.         0.         0.         0.         0.         0.\n",
      " 0.         0.         0.         0.         0.         0.\n",
      " 0.         0.         0.         0.         0.         0.04313725\n",
      " 0.74509804 0.99215686 0.2745098  0.         0.         0.\n",
      " 0.         0.         0.         0.         0.         0.\n",
      " 0.         0.         0.         0.         0.         0.\n",
      " 0.         0.         0.         0.         0.         0.\n",
      " 0.         0.         0.         0.         0.1372549  0.94509804\n",
      " 0.88235294 0.62745098 0.42352941 0.00392157 0.         0.\n",
      " 0.         0.         0.         0.         0.         0.\n",
      " 0.         0.         0.         0.         0.         0.\n",
      " 0.         0.         0.         0.         0.         0.\n",
      " 0.         0.         0.         0.31764706 0.94117647 0.99215686\n",
      " 0.99215686 0.46666667 0.09803922 0.         0.         0.\n",
      " 0.         0.         0.         0.         0.         0.\n",
      " 0.         0.         0.         0.         0.         0.\n",
      " 0.         0.         0.         0.         0.         0.\n",
      " 0.         0.         0.17647059 0.72941176 0.99215686 0.99215686\n",
      " 0.58823529 0.10588235 0.         0.         0.         0.\n",
      " 0.         0.         0.         0.         0.         0.\n",
      " 0.         0.         0.         0.         0.         0.\n",
      " 0.         0.         0.         0.         0.         0.\n",
      " 0.         0.0627451  0.36470588 0.98823529 0.99215686 0.73333333\n",
      " 0.         0.         0.         0.         0.         0.\n",
      " 0.         0.         0.         0.         0.         0.\n",
      " 0.         0.         0.         0.         0.         0.\n",
      " 0.         0.         0.         0.         0.         0.\n",
      " 0.         0.97647059 0.99215686 0.97647059 0.25098039 0.\n",
      " 0.         0.         0.         0.         0.         0.\n",
      " 0.         0.         0.         0.         0.         0.\n",
      " 0.         0.         0.         0.         0.         0.\n",
      " 0.         0.         0.18039216 0.50980392 0.71764706 0.99215686\n",
      " 0.99215686 0.81176471 0.00784314 0.         0.         0.\n",
      " 0.         0.         0.         0.         0.         0.\n",
      " 0.         0.         0.         0.         0.         0.\n",
      " 0.         0.         0.         0.         0.15294118 0.58039216\n",
      " 0.89803922 0.99215686 0.99215686 0.99215686 0.98039216 0.71372549\n",
      " 0.         0.         0.         0.         0.         0.\n",
      " 0.         0.         0.         0.         0.         0.\n",
      " 0.         0.         0.         0.         0.         0.\n",
      " 0.09411765 0.44705882 0.86666667 0.99215686 0.99215686 0.99215686\n",
      " 0.99215686 0.78823529 0.30588235 0.         0.         0.\n",
      " 0.         0.         0.         0.         0.         0.\n",
      " 0.         0.         0.         0.         0.         0.\n",
      " 0.         0.         0.09019608 0.25882353 0.83529412 0.99215686\n",
      " 0.99215686 0.99215686 0.99215686 0.77647059 0.31764706 0.00784314\n",
      " 0.         0.         0.         0.         0.         0.\n",
      " 0.         0.         0.         0.         0.         0.\n",
      " 0.         0.         0.         0.         0.07058824 0.67058824\n",
      " 0.85882353 0.99215686 0.99215686 0.99215686 0.99215686 0.76470588\n",
      " 0.31372549 0.03529412 0.         0.         0.         0.\n",
      " 0.         0.         0.         0.         0.         0.\n",
      " 0.         0.         0.         0.         0.         0.\n",
      " 0.21568627 0.6745098  0.88627451 0.99215686 0.99215686 0.99215686\n",
      " 0.99215686 0.95686275 0.52156863 0.04313725 0.         0.\n",
      " 0.         0.         0.         0.         0.         0.\n",
      " 0.         0.         0.         0.         0.         0.\n",
      " 0.         0.         0.         0.         0.53333333 0.99215686\n",
      " 0.99215686 0.99215686 0.83137255 0.52941176 0.51764706 0.0627451\n",
      " 0.         0.         0.         0.         0.         0.\n",
      " 0.         0.         0.         0.         0.         0.\n",
      " 0.         0.         0.         0.         0.         0.\n",
      " 0.         0.         0.         0.         0.         0.\n",
      " 0.         0.         0.         0.         0.         0.\n",
      " 0.         0.         0.         0.         0.         0.\n",
      " 0.         0.         0.         0.         0.         0.\n",
      " 0.         0.         0.         0.         0.         0.\n",
      " 0.         0.         0.         0.         0.         0.\n",
      " 0.         0.         0.         0.         0.         0.\n",
      " 0.         0.         0.         0.         0.         0.\n",
      " 0.         0.         0.         0.         0.         0.\n",
      " 0.         0.         0.         0.         0.         0.\n",
      " 0.         0.         0.         0.         0.         0.\n",
      " 0.         0.         0.         0.         0.         0.\n",
      " 0.         0.         0.         0.         0.         0.\n",
      " 0.         0.         0.         0.        ]\n"
     ]
    }
   ],
   "source": [
    "print(training_images[0])"
   ]
  },
  {
   "cell_type": "markdown",
   "id": "a090bdcf",
   "metadata": {},
   "source": [
    "## Convert the labels to floating point through categorical/one-hot encoding\n",
    "\n",
    "You will use one-hot encoding to embed each digit label as an all-zero vector with `np.zeros()` and place `1` for a label index. As a result, your label data will be arrays with `1.0` (or `1.`) in the position of each image label.\n",
    "\n",
    "Since there are 10 labels (from 0 to 9) in total, your arrays will look similar to this:\n",
    "\n",
    "`array([0., 0., 0., 0., 0., 1., 0., 0., 0., 0.])`"
   ]
  },
  {
   "cell_type": "markdown",
   "id": "0644ae00",
   "metadata": {},
   "source": [
    "1) Confirm that the image label data are integers with `dtype` `uint8`:"
   ]
  },
  {
   "cell_type": "code",
   "execution_count": 184,
   "id": "b6671ebd",
   "metadata": {},
   "outputs": [
    {
     "name": "stdout",
     "output_type": "stream",
     "text": [
      "The data type of training labels: uint8\n",
      "The data type of test labels: uint8\n"
     ]
    }
   ],
   "source": [
    "print(\"The data type of training labels: {}\".format(y_train.dtype))\n",
    "print(\"The data type of test labels: {}\".format(y_test.dtype))"
   ]
  },
  {
   "cell_type": "markdown",
   "id": "bd236750",
   "metadata": {},
   "source": [
    "2) Define a function that performs one-hot encoding on arrays:"
   ]
  },
  {
   "cell_type": "code",
   "execution_count": 185,
   "id": "d2f13023",
   "metadata": {},
   "outputs": [],
   "source": [
    "def one_hot_encoding(labels, dimension=10):\n",
    "    \"\"\"Define a one-hot variable for an all-zero vector\n",
    "    with 10 dimensions (number labels from 0 to 9)\"\"\"\n",
    "    one_hot_labels = labels[..., None] == np.arange(dimension)[None]\n",
    "    # Return one-hot encoded labels\n",
    "    return one_hot_labels.astype(np.float64)"
   ]
  },
  {
   "cell_type": "markdown",
   "id": "afa5c509",
   "metadata": {},
   "source": [
    "3) Encode the labels and assign the values to new variables:"
   ]
  },
  {
   "cell_type": "code",
   "execution_count": 186,
   "id": "d08d991e",
   "metadata": {},
   "outputs": [],
   "source": [
    "training_labels = one_hot_encoding(y_train[:training_sample])\n",
    "test_labels = one_hot_encoding(y_test[:test_sample])"
   ]
  },
  {
   "cell_type": "markdown",
   "id": "99c988cb",
   "metadata": {},
   "source": [
    "4) Check that the data type has changed to floating point:"
   ]
  },
  {
   "cell_type": "code",
   "execution_count": 187,
   "id": "98310400",
   "metadata": {},
   "outputs": [
    {
     "name": "stdout",
     "output_type": "stream",
     "text": [
      "The data type of training labels: float64\n",
      "The data type of test labels: float64\n"
     ]
    }
   ],
   "source": [
    "print(\"The data type of training labels: {}\".format(training_labels.dtype))\n",
    "print(\"The data type of test labels: {}\".format(test_labels.dtype))"
   ]
  },
  {
   "cell_type": "markdown",
   "id": "1e20aed5",
   "metadata": {},
   "source": [
    "5) Examine a few encoded labels:"
   ]
  },
  {
   "cell_type": "code",
   "execution_count": 188,
   "id": "600a24e7",
   "metadata": {},
   "outputs": [
    {
     "name": "stdout",
     "output_type": "stream",
     "text": [
      "[0. 0. 0. 0. 0. 1. 0. 0. 0. 0.]\n",
      "[1. 0. 0. 0. 0. 0. 0. 0. 0. 0.]\n",
      "[0. 0. 0. 0. 1. 0. 0. 0. 0. 0.]\n"
     ]
    }
   ],
   "source": [
    "print(training_labels[0])\n",
    "print(training_labels[1])\n",
    "print(training_labels[2])"
   ]
  },
  {
   "cell_type": "markdown",
   "id": "ceed8cb8",
   "metadata": {},
   "source": [
    "... and compare to the originals:"
   ]
  },
  {
   "cell_type": "code",
   "execution_count": 189,
   "id": "c9f4ba81",
   "metadata": {},
   "outputs": [
    {
     "data": {
      "text/plain": [
       "4"
      ]
     },
     "execution_count": 189,
     "metadata": {},
     "output_type": "execute_result"
    }
   ],
   "source": [
    "5\n",
    "0\n",
    "4"
   ]
  },
  {
   "cell_type": "markdown",
   "id": "69fb7ef6",
   "metadata": {},
   "source": [
    "Dataset preparation is complete."
   ]
  },
  {
   "cell_type": "markdown",
   "id": "9ef65e73",
   "metadata": {},
   "source": [
    "# Build and Train a Small Neural Network from Scratch\n",
    "\n",
    "In this section you will familiarize yourself with some hig-level concepts of the basic building blocks of a deep learning mode.\n",
    "\n",
    "Afterwards, you will construct the building blocks of a simple deep learning model in Python and NumPy and train it to learn to identify handwritten digits from the MNIST dataset with a certain level of accuracy."
   ]
  },
  {
   "cell_type": "markdown",
   "id": "319793ad",
   "metadata": {},
   "source": [
    "## Neural network building blocks with NumPy\n",
    "\n",
    "- *Layers:* These building blocks work as data filters - they process data and learn representations from inputs to better predict the target outputs.\n",
    "\n",
    "You will use 1 hidden layer in your model to pass the inputs forward (forward propagation) and propagate the gradients/error derivatives of a loss function backward (backpropagation). These are input, hidden, and output layers.\n",
    "\n",
    "In the hidden (middle) and output (last) layers, the neural network model will compute the weighted sum of inputs. To compute this process, you will use NumPy's matrix multiplication function `np.dot(layer, weights)`.\n",
    "\n",
    "**Note:** For simplicity, the bias term is omitted in this example (there is no `np.dot(layer, weights) + bias`).\n",
    "\n",
    "- *Weights:* These are important adjustable parameters that the neural network fine-tunes by forward and backward propagating the data. They are optimized through a process called gradient descent. Before the model training starts, the weights are randomly initialized with NumPy's `Generator.random()`.\n",
    "\n",
    "The optimal weights should produce the highest prediction accuracy and the lowest error on the training and test sets.\n",
    "\n",
    "- *Activation function:* Deep learning models are capable of determining non-linear relationships between inputs and outputs and these non-linear functions are usually applied to the output of each layer.\n",
    "\n",
    "You will use a rectified linear unit (ReLU) to the hidden layer's output (for example, `relu(np.dot(layer, weights))`).\n",
    "\n",
    "**Rectified Linear Unit (ReLLU)** is an activation function defined as the non-negative part of its argument. All it does is convert negative numbers to 0 and leave the rest the same.\n",
    "\n",
    "- *Regularization:* This technique helps prevent the neural network model from overfitting. In this example, you will use a method called dropout - dilution - that randomly sets a number of features in a layer to 0s. You will define it with NumPy's `Generator.integers()` method and apply it to the hidden layer of the network.\n",
    "\n",
    "- *Loss Function:* The computation determines the quality of predictions by comparing the image labels (the truth) with the predicted values in the final layer's output.\n",
    "\n",
    "For simplicity, you will use a basic total squared error using NumPy's `np.sum()` function (for example, `np.sum((final_layer_output - image_labels) ** 2)`).\n",
    "\n",
    "- *Accuracy:* This metric measures the accuracy of the network's ability to predict on the data it hasn't seen."
   ]
  },
  {
   "cell_type": "markdown",
   "id": "3dbe9860",
   "metadata": {},
   "source": [
    "## Model architecture and training summary\n",
    "\n",
    "- The *input* layer:\n",
    "\n",
    "It is the input for the network — the previously preprocessed data that is loaded from `training_images` into `layer_0`.\n",
    "\n",
    "- The *hidden* (middle) layer:\n",
    "\n",
    "`layer_1` takes the output from the previous layer and performs matrix-multiplication of the input by weights (`weights_1`) with NumPy’s `np.dot()`.\n",
    "\n",
    "Then, this output is passed through the ReLU activation function for non-linearity and then dropout is applied to help with overfitting.\n",
    "\n",
    "- The *output* (last) layer:\n",
    "\n",
    "`layer_2` ingests the output from layer_1 and repeats the same “dot multiply” process with `weights_2`.\n",
    "\n",
    "The final output returns 10 scores for each of the 0-9 digit labels. The network model ends with a size 10 layer — a 10-dimensional vector.\n",
    "\n",
    "- *Forward propagation, backpropagation, training loop*:\n",
    "\n",
    "In the beginning of model training, your network randomly initializes the weights and feeds the input data forward through the hidden and output layers. This process is the forward pass or forward propagation.\n",
    "\n",
    "Then, the network propagates the “signal” from the loss function back through the hidden layer and adjusts the weights values with the help of the learning rate parameter (more on that later).\n",
    "\n",
    "**Note:** In more technical terms, you:\n",
    "\n",
    "1) Measure the error by comparing the real label of an image (the truth) with the prediction of the model.\n",
    "\n",
    "2) Differentiate the loss function.\n",
    "\n",
    "3) Ingest the gradients with the respect to the output, and backpropagate them with the respect to the inputs through the layer(s).\n",
    "\n",
    "Since the network contains tensor operations and weight matrices, backpropagation uses the chain rule.\n",
    "\n",
    "With each iteration (epoch) of the neural network training, this forward and backward propagation cycle adjusts the weights, which is reflected in the accuracy and error metrics. As you train the model, your goal is to minimize the error and maximize the accuracy on the training data, where the model learns from, as well as the test data, where you evaluate the model."
   ]
  },
  {
   "cell_type": "markdown",
   "id": "93c731e0",
   "metadata": {},
   "source": [
    "## Compose the model and begin training and testing it\n",
    "\n",
    "Having covered the main deep learning concepts and the neural etwork architecture, let's write the code.\n",
    "\n",
    "1) We'll start by creating a new random number generator, providing a seed for reproducibility:"
   ]
  },
  {
   "cell_type": "code",
   "execution_count": 190,
   "id": "23d76c23",
   "metadata": {},
   "outputs": [],
   "source": [
    "seed = 884736743\n",
    "rng = np.random.default_rng(seed)"
   ]
  },
  {
   "cell_type": "markdown",
   "id": "ee4e9205",
   "metadata": {},
   "source": [
    "2) For the hidden layer, define the ReLU activation function for forward propagation and ReLU's derivative that will be used during backpropagation:"
   ]
  },
  {
   "cell_type": "code",
   "execution_count": 191,
   "id": "ba8af31b",
   "metadata": {},
   "outputs": [],
   "source": [
    "def relu(x):\n",
    "    return (x >= 0) * x\n",
    "\n",
    "# Set up a derivative of the ReLU function that returns 1 for a positive input and 0 otherwise\n",
    "def relu2deriv(output):\n",
    "    return output >= 0"
   ]
  },
  {
   "cell_type": "markdown",
   "id": "7a9b45b6",
   "metadata": {},
   "source": [
    "3) Set certain defaults of hyperparameters, such as:\n",
    "\n",
    "- *Learning rate:* `learning_rate` - helps limit the magnitude of weight updates to prevent them from overcorrecting.\n",
    "\n",
    "A **hyperparameter** is a parameter that can be set in order to define any configurable part of a model's learning process.\n",
    "\n",
    "- *Epochs* (iterations): `epochs` - the number of complete passes - forward and backward propagations - of the data through the network. This parameter can positively or negatively affect the results. The higher the iterations, the longer the learning process may take. Because this is a computationally intensive task, we have chosen a very low number of epochs (20). To get meaningful results, you should choose a much larger number.\n",
    "\n",
    "- *Size of the hidden layer in a network:* `hidden_size` - different sizes of the hidden layer can affect the results during training and testing.\n",
    "\n",
    "- *Size of the input:* `pixels_per_image` - you have established that the image input is 784 (28x28) (in pixels).\n",
    "\n",
    "- *Number of labels:* `num_labels` - indicates the output number for the output layer where the predictions occur for 10 (0 to 9) handwritten digit labels."
   ]
  },
  {
   "cell_type": "code",
   "execution_count": 192,
   "id": "462e7b7a",
   "metadata": {},
   "outputs": [],
   "source": [
    "learning_rate = 0.005\n",
    "epochs = 100\n",
    "hidden_size = 100\n",
    "pixels_per_image = 784\n",
    "num_labels = 10"
   ]
  },
  {
   "cell_type": "markdown",
   "id": "60999a9b",
   "metadata": {},
   "source": [
    "4) Initialize the weight vectors that will be used in the hidden and output layers with random values:"
   ]
  },
  {
   "cell_type": "code",
   "execution_count": 193,
   "id": "880b9a88",
   "metadata": {},
   "outputs": [],
   "source": [
    "weights_1 = 0.2 * rng.random((pixels_per_image, hidden_size)) - 0.1\n",
    "weights_2 = 0.2 * rng.random((hidden_size, num_labels)) - 0.1"
   ]
  },
  {
   "cell_type": "markdown",
   "id": "9d3387f6",
   "metadata": {},
   "source": [
    "5) Set up the neural network's learning experiment with a training loop and start the training process. Note that the model is evaluated against the test set at each epoch to track its performance over the training epochs.\n",
    "\n",
    "Start the training process:"
   ]
  },
  {
   "cell_type": "markdown",
   "id": "8c6d34c5",
   "metadata": {},
   "source": []
  },
  {
   "cell_type": "code",
   "execution_count": 194,
   "id": "cce598e8",
   "metadata": {},
   "outputs": [
    {
     "name": "stdout",
     "output_type": "stream",
     "text": [
      "Epoch: 0\n",
      "  Training set error: 0.898\n",
      "  Training set accuracy: 0.397\n",
      "  Test set error: 0.680\n",
      "  Test set accuracy: 0.582\n",
      "Epoch: 1\n",
      "  Training set error: 0.656\n",
      "  Training set accuracy: 0.633\n",
      "  Test set error: 0.607\n",
      "  Test set accuracy: 0.641\n",
      "Epoch: 2\n",
      "  Training set error: 0.592\n",
      "  Training set accuracy: 0.68\n",
      "  Test set error: 0.569\n",
      "  Test set accuracy: 0.679\n",
      "Epoch: 3\n",
      "  Training set error: 0.556\n",
      "  Training set accuracy: 0.7\n",
      "  Test set error: 0.541\n",
      "  Test set accuracy: 0.708\n",
      "Epoch: 4\n",
      "  Training set error: 0.534\n",
      "  Training set accuracy: 0.732\n",
      "  Test set error: 0.526\n",
      "  Test set accuracy: 0.729\n",
      "Epoch: 5\n",
      "  Training set error: 0.515\n",
      "  Training set accuracy: 0.715\n",
      "  Test set error: 0.500\n",
      "  Test set accuracy: 0.739\n",
      "Epoch: 6\n",
      "  Training set error: 0.495\n",
      "  Training set accuracy: 0.748\n",
      "  Test set error: 0.487\n",
      "  Test set accuracy: 0.753\n",
      "Epoch: 7\n",
      "  Training set error: 0.483\n",
      "  Training set accuracy: 0.769\n",
      "  Test set error: 0.486\n",
      "  Test set accuracy: 0.747\n",
      "Epoch: 8\n",
      "  Training set error: 0.473\n",
      "  Training set accuracy: 0.776\n",
      "  Test set error: 0.473\n",
      "  Test set accuracy: 0.752\n",
      "Epoch: 9\n",
      "  Training set error: 0.460\n",
      "  Training set accuracy: 0.788\n",
      "  Test set error: 0.462\n",
      "  Test set accuracy: 0.762\n",
      "Epoch: 10\n",
      "  Training set error: 0.465\n",
      "  Training set accuracy: 0.769\n",
      "  Test set error: 0.462\n",
      "  Test set accuracy: 0.767\n",
      "Epoch: 11\n",
      "  Training set error: 0.443\n",
      "  Training set accuracy: 0.801\n",
      "  Test set error: 0.456\n",
      "  Test set accuracy: 0.775\n",
      "Epoch: 12\n",
      "  Training set error: 0.448\n",
      "  Training set accuracy: 0.795\n",
      "  Test set error: 0.455\n",
      "  Test set accuracy: 0.772\n",
      "Epoch: 13\n",
      "  Training set error: 0.438\n",
      "  Training set accuracy: 0.787\n",
      "  Test set error: 0.453\n",
      "  Test set accuracy: 0.778\n",
      "Epoch: 14\n",
      "  Training set error: 0.446\n",
      "  Training set accuracy: 0.791\n",
      "  Test set error: 0.450\n",
      "  Test set accuracy: 0.779\n",
      "Epoch: 15\n",
      "  Training set error: 0.441\n",
      "  Training set accuracy: 0.788\n",
      "  Test set error: 0.452\n",
      "  Test set accuracy: 0.772\n",
      "Epoch: 16\n",
      "  Training set error: 0.437\n",
      "  Training set accuracy: 0.786\n",
      "  Test set error: 0.453\n",
      "  Test set accuracy: 0.772\n",
      "Epoch: 17\n",
      "  Training set error: 0.436\n",
      "  Training set accuracy: 0.794\n",
      "  Test set error: 0.449\n",
      "  Test set accuracy: 0.778\n",
      "Epoch: 18\n",
      "  Training set error: 0.433\n",
      "  Training set accuracy: 0.801\n",
      "  Test set error: 0.450\n",
      "  Test set accuracy: 0.774\n",
      "Epoch: 19\n",
      "  Training set error: 0.429\n",
      "  Training set accuracy: 0.785\n",
      "  Test set error: 0.436\n",
      "  Test set accuracy: 0.784\n",
      "Epoch: 20\n",
      "  Training set error: 0.420\n",
      "  Training set accuracy: 0.81\n",
      "  Test set error: 0.443\n",
      "  Test set accuracy: 0.788\n",
      "Epoch: 21\n",
      "  Training set error: 0.433\n",
      "  Training set accuracy: 0.799\n",
      "  Test set error: 0.437\n",
      "  Test set accuracy: 0.783\n",
      "Epoch: 22\n",
      "  Training set error: 0.412\n",
      "  Training set accuracy: 0.817\n",
      "  Test set error: 0.437\n",
      "  Test set accuracy: 0.782\n",
      "Epoch: 23\n",
      "  Training set error: 0.400\n",
      "  Training set accuracy: 0.823\n",
      "  Test set error: 0.437\n",
      "  Test set accuracy: 0.79\n",
      "Epoch: 24\n",
      "  Training set error: 0.409\n",
      "  Training set accuracy: 0.827\n",
      "  Test set error: 0.438\n",
      "  Test set accuracy: 0.778\n",
      "Epoch: 25\n",
      "  Training set error: 0.404\n",
      "  Training set accuracy: 0.817\n",
      "  Test set error: 0.430\n",
      "  Test set accuracy: 0.798\n",
      "Epoch: 26\n",
      "  Training set error: 0.393\n",
      "  Training set accuracy: 0.833\n",
      "  Test set error: 0.427\n",
      "  Test set accuracy: 0.797\n",
      "Epoch: 27\n",
      "  Training set error: 0.406\n",
      "  Training set accuracy: 0.833\n",
      "  Test set error: 0.431\n",
      "  Test set accuracy: 0.783\n",
      "Epoch: 28\n",
      "  Training set error: 0.412\n",
      "  Training set accuracy: 0.813\n",
      "  Test set error: 0.435\n",
      "  Test set accuracy: 0.798\n",
      "Epoch: 29\n",
      "  Training set error: 0.391\n",
      "  Training set accuracy: 0.836\n",
      "  Test set error: 0.431\n",
      "  Test set accuracy: 0.789\n",
      "Epoch: 30\n",
      "  Training set error: 0.408\n",
      "  Training set accuracy: 0.833\n",
      "  Test set error: 0.441\n",
      "  Test set accuracy: 0.777\n",
      "Epoch: 31\n",
      "  Training set error: 0.398\n",
      "  Training set accuracy: 0.821\n",
      "  Test set error: 0.434\n",
      "  Test set accuracy: 0.791\n",
      "Epoch: 32\n",
      "  Training set error: 0.401\n",
      "  Training set accuracy: 0.843\n",
      "  Test set error: 0.436\n",
      "  Test set accuracy: 0.799\n",
      "Epoch: 33\n",
      "  Training set error: 0.404\n",
      "  Training set accuracy: 0.836\n",
      "  Test set error: 0.434\n",
      "  Test set accuracy: 0.793\n",
      "Epoch: 34\n",
      "  Training set error: 0.394\n",
      "  Training set accuracy: 0.825\n",
      "  Test set error: 0.427\n",
      "  Test set accuracy: 0.794\n",
      "Epoch: 35\n",
      "  Training set error: 0.390\n",
      "  Training set accuracy: 0.84\n",
      "  Test set error: 0.434\n",
      "  Test set accuracy: 0.796\n",
      "Epoch: 36\n",
      "  Training set error: 0.393\n",
      "  Training set accuracy: 0.831\n",
      "  Test set error: 0.428\n",
      "  Test set accuracy: 0.792\n",
      "Epoch: 37\n",
      "  Training set error: 0.372\n",
      "  Training set accuracy: 0.847\n",
      "  Test set error: 0.422\n",
      "  Test set accuracy: 0.795\n",
      "Epoch: 38\n",
      "  Training set error: 0.381\n",
      "  Training set accuracy: 0.856\n",
      "  Test set error: 0.421\n",
      "  Test set accuracy: 0.796\n",
      "Epoch: 39\n",
      "  Training set error: 0.375\n",
      "  Training set accuracy: 0.84\n",
      "  Test set error: 0.415\n",
      "  Test set accuracy: 0.801\n",
      "Epoch: 40\n",
      "  Training set error: 0.378\n",
      "  Training set accuracy: 0.84\n",
      "  Test set error: 0.418\n",
      "  Test set accuracy: 0.801\n",
      "Epoch: 41\n",
      "  Training set error: 0.368\n",
      "  Training set accuracy: 0.853\n",
      "  Test set error: 0.424\n",
      "  Test set accuracy: 0.804\n",
      "Epoch: 42\n",
      "  Training set error: 0.382\n",
      "  Training set accuracy: 0.861\n",
      "  Test set error: 0.419\n",
      "  Test set accuracy: 0.809\n",
      "Epoch: 43\n",
      "  Training set error: 0.375\n",
      "  Training set accuracy: 0.847\n",
      "  Test set error: 0.418\n",
      "  Test set accuracy: 0.812\n",
      "Epoch: 44\n",
      "  Training set error: 0.380\n",
      "  Training set accuracy: 0.857\n",
      "  Test set error: 0.418\n",
      "  Test set accuracy: 0.809\n",
      "Epoch: 45\n",
      "  Training set error: 0.373\n",
      "  Training set accuracy: 0.854\n",
      "  Test set error: 0.427\n",
      "  Test set accuracy: 0.809\n",
      "Epoch: 46\n",
      "  Training set error: 0.379\n",
      "  Training set accuracy: 0.856\n",
      "  Test set error: 0.414\n",
      "  Test set accuracy: 0.808\n",
      "Epoch: 47\n",
      "  Training set error: 0.374\n",
      "  Training set accuracy: 0.856\n",
      "  Test set error: 0.423\n",
      "  Test set accuracy: 0.809\n",
      "Epoch: 48\n",
      "  Training set error: 0.371\n",
      "  Training set accuracy: 0.85\n",
      "  Test set error: 0.423\n",
      "  Test set accuracy: 0.805\n",
      "Epoch: 49\n",
      "  Training set error: 0.389\n",
      "  Training set accuracy: 0.856\n",
      "  Test set error: 0.426\n",
      "  Test set accuracy: 0.807\n",
      "Epoch: 50\n",
      "  Training set error: 0.377\n",
      "  Training set accuracy: 0.851\n",
      "  Test set error: 0.425\n",
      "  Test set accuracy: 0.797\n",
      "Epoch: 51\n",
      "  Training set error: 0.375\n",
      "  Training set accuracy: 0.851\n",
      "  Test set error: 0.424\n",
      "  Test set accuracy: 0.798\n",
      "Epoch: 52\n",
      "  Training set error: 0.378\n",
      "  Training set accuracy: 0.865\n",
      "  Test set error: 0.425\n",
      "  Test set accuracy: 0.805\n",
      "Epoch: 53\n",
      "  Training set error: 0.363\n",
      "  Training set accuracy: 0.867\n",
      "  Test set error: 0.422\n",
      "  Test set accuracy: 0.804\n",
      "Epoch: 54\n",
      "  Training set error: 0.369\n",
      "  Training set accuracy: 0.849\n",
      "  Test set error: 0.418\n",
      "  Test set accuracy: 0.798\n",
      "Epoch: 55\n",
      "  Training set error: 0.354\n",
      "  Training set accuracy: 0.865\n",
      "  Test set error: 0.417\n",
      "  Test set accuracy: 0.808\n",
      "Epoch: 56\n",
      "  Training set error: 0.361\n",
      "  Training set accuracy: 0.874\n",
      "  Test set error: 0.417\n",
      "  Test set accuracy: 0.813\n",
      "Epoch: 57\n",
      "  Training set error: 0.368\n",
      "  Training set accuracy: 0.869\n",
      "  Test set error: 0.422\n",
      "  Test set accuracy: 0.808\n",
      "Epoch: 58\n",
      "  Training set error: 0.349\n",
      "  Training set accuracy: 0.858\n",
      "  Test set error: 0.411\n",
      "  Test set accuracy: 0.807\n",
      "Epoch: 59\n",
      "  Training set error: 0.375\n",
      "  Training set accuracy: 0.875\n",
      "  Test set error: 0.425\n",
      "  Test set accuracy: 0.803\n",
      "Epoch: 60\n",
      "  Training set error: 0.361\n",
      "  Training set accuracy: 0.862\n",
      "  Test set error: 0.420\n",
      "  Test set accuracy: 0.812\n",
      "Epoch: 61\n",
      "  Training set error: 0.350\n",
      "  Training set accuracy: 0.871\n",
      "  Test set error: 0.417\n",
      "  Test set accuracy: 0.815\n",
      "Epoch: 62\n",
      "  Training set error: 0.356\n",
      "  Training set accuracy: 0.864\n",
      "  Test set error: 0.422\n",
      "  Test set accuracy: 0.807\n",
      "Epoch: 63\n",
      "  Training set error: 0.348\n",
      "  Training set accuracy: 0.879\n",
      "  Test set error: 0.421\n",
      "  Test set accuracy: 0.809\n",
      "Epoch: 64\n",
      "  Training set error: 0.349\n",
      "  Training set accuracy: 0.88\n",
      "  Test set error: 0.412\n",
      "  Test set accuracy: 0.814\n",
      "Epoch: 65\n",
      "  Training set error: 0.358\n",
      "  Training set accuracy: 0.865\n",
      "  Test set error: 0.418\n",
      "  Test set accuracy: 0.804\n",
      "Epoch: 66\n",
      "  Training set error: 0.368\n",
      "  Training set accuracy: 0.866\n",
      "  Test set error: 0.426\n",
      "  Test set accuracy: 0.818\n",
      "Epoch: 67\n",
      "  Training set error: 0.360\n",
      "  Training set accuracy: 0.858\n",
      "  Test set error: 0.423\n",
      "  Test set accuracy: 0.811\n",
      "Epoch: 68\n",
      "  Training set error: 0.367\n",
      "  Training set accuracy: 0.873\n",
      "  Test set error: 0.424\n",
      "  Test set accuracy: 0.81\n",
      "Epoch: 69\n",
      "  Training set error: 0.361\n",
      "  Training set accuracy: 0.874\n",
      "  Test set error: 0.422\n",
      "  Test set accuracy: 0.811\n",
      "Epoch: 70\n",
      "  Training set error: 0.358\n",
      "  Training set accuracy: 0.879\n",
      "  Test set error: 0.426\n",
      "  Test set accuracy: 0.81\n",
      "Epoch: 71\n",
      "  Training set error: 0.348\n",
      "  Training set accuracy: 0.878\n",
      "  Test set error: 0.429\n",
      "  Test set accuracy: 0.816\n",
      "Epoch: 72\n",
      "  Training set error: 0.359\n",
      "  Training set accuracy: 0.867\n",
      "  Test set error: 0.424\n",
      "  Test set accuracy: 0.806\n",
      "Epoch: 73\n",
      "  Training set error: 0.356\n",
      "  Training set accuracy: 0.87\n",
      "  Test set error: 0.423\n",
      "  Test set accuracy: 0.813\n",
      "Epoch: 74\n",
      "  Training set error: 0.350\n",
      "  Training set accuracy: 0.865\n",
      "  Test set error: 0.421\n",
      "  Test set accuracy: 0.801\n",
      "Epoch: 75\n",
      "  Training set error: 0.356\n",
      "  Training set accuracy: 0.871\n",
      "  Test set error: 0.420\n",
      "  Test set accuracy: 0.813\n",
      "Epoch: 76\n",
      "  Training set error: 0.360\n",
      "  Training set accuracy: 0.865\n",
      "  Test set error: 0.437\n",
      "  Test set accuracy: 0.795\n",
      "Epoch: 77\n",
      "  Training set error: 0.359\n",
      "  Training set accuracy: 0.859\n",
      "  Test set error: 0.425\n",
      "  Test set accuracy: 0.804\n",
      "Epoch: 78\n",
      "  Training set error: 0.365\n",
      "  Training set accuracy: 0.862\n",
      "  Test set error: 0.424\n",
      "  Test set accuracy: 0.81\n",
      "Epoch: 79\n",
      "  Training set error: 0.352\n",
      "  Training set accuracy: 0.876\n",
      "  Test set error: 0.423\n",
      "  Test set accuracy: 0.802\n",
      "Epoch: 80\n",
      "  Training set error: 0.362\n",
      "  Training set accuracy: 0.868\n",
      "  Test set error: 0.427\n",
      "  Test set accuracy: 0.804\n",
      "Epoch: 81\n",
      "  Training set error: 0.342\n",
      "  Training set accuracy: 0.878\n",
      "  Test set error: 0.421\n",
      "  Test set accuracy: 0.804\n",
      "Epoch: 82\n",
      "  Training set error: 0.355\n",
      "  Training set accuracy: 0.864\n",
      "  Test set error: 0.417\n",
      "  Test set accuracy: 0.808\n",
      "Epoch: 83\n",
      "  Training set error: 0.339\n",
      "  Training set accuracy: 0.887\n",
      "  Test set error: 0.413\n",
      "  Test set accuracy: 0.806\n",
      "Epoch: 84\n",
      "  Training set error: 0.345\n",
      "  Training set accuracy: 0.878\n",
      "  Test set error: 0.419\n",
      "  Test set accuracy: 0.806\n",
      "Epoch: 85\n",
      "  Training set error: 0.348\n",
      "  Training set accuracy: 0.87\n",
      "  Test set error: 0.420\n",
      "  Test set accuracy: 0.803\n",
      "Epoch: 86\n",
      "  Training set error: 0.340\n",
      "  Training set accuracy: 0.88\n",
      "  Test set error: 0.414\n",
      "  Test set accuracy: 0.811\n",
      "Epoch: 87\n",
      "  Training set error: 0.345\n",
      "  Training set accuracy: 0.868\n",
      "  Test set error: 0.417\n",
      "  Test set accuracy: 0.805\n",
      "Epoch: 88\n",
      "  Training set error: 0.338\n",
      "  Training set accuracy: 0.891\n",
      "  Test set error: 0.410\n",
      "  Test set accuracy: 0.807\n",
      "Epoch: 89\n",
      "  Training set error: 0.344\n",
      "  Training set accuracy: 0.882\n",
      "  Test set error: 0.413\n",
      "  Test set accuracy: 0.803\n",
      "Epoch: 90\n",
      "  Training set error: 0.354\n",
      "  Training set accuracy: 0.878\n",
      "  Test set error: 0.428\n",
      "  Test set accuracy: 0.808\n",
      "Epoch: 91\n",
      "  Training set error: 0.345\n",
      "  Training set accuracy: 0.88\n",
      "  Test set error: 0.421\n",
      "  Test set accuracy: 0.798\n",
      "Epoch: 92\n",
      "  Training set error: 0.349\n",
      "  Training set accuracy: 0.883\n",
      "  Test set error: 0.417\n",
      "  Test set accuracy: 0.802\n",
      "Epoch: 93\n",
      "  Training set error: 0.355\n",
      "  Training set accuracy: 0.87\n",
      "  Test set error: 0.419\n",
      "  Test set accuracy: 0.816\n",
      "Epoch: 94\n",
      "  Training set error: 0.334\n",
      "  Training set accuracy: 0.877\n",
      "  Test set error: 0.415\n",
      "  Test set accuracy: 0.8\n",
      "Epoch: 95\n",
      "  Training set error: 0.356\n",
      "  Training set accuracy: 0.883\n",
      "  Test set error: 0.416\n",
      "  Test set accuracy: 0.806\n",
      "Epoch: 96\n",
      "  Training set error: 0.337\n",
      "  Training set accuracy: 0.878\n",
      "  Test set error: 0.416\n",
      "  Test set accuracy: 0.805\n",
      "Epoch: 97\n",
      "  Training set error: 0.343\n",
      "  Training set accuracy: 0.879\n",
      "  Test set error: 0.421\n",
      "  Test set accuracy: 0.8\n",
      "Epoch: 98\n",
      "  Training set error: 0.341\n",
      "  Training set accuracy: 0.878\n",
      "  Test set error: 0.419\n",
      "  Test set accuracy: 0.801\n",
      "Epoch: 99\n",
      "  Training set error: 0.336\n",
      "  Training set accuracy: 0.887\n",
      "  Test set error: 0.422\n",
      "  Test set accuracy: 0.81\n"
     ]
    }
   ],
   "source": [
    "# To store training and test set losses and accurate predictions\n",
    "# for visualization.\n",
    "store_training_loss = []\n",
    "store_training_accurate_pred = []\n",
    "store_test_loss = []\n",
    "store_test_accurate_pred = []\n",
    "\n",
    "# This is a training loop.\n",
    "# Run the learning experiment for a defined number of epochs (iterations).\n",
    "for j in range(epochs):\n",
    "\n",
    "    #################\n",
    "    # Training step #\n",
    "    #################\n",
    "\n",
    "    # Set the initial loss/error and the number of accurate predictions to zero.\n",
    "    training_loss = 0.0\n",
    "    training_accurate_predictions = 0\n",
    "\n",
    "    # For all images in the training set, perform a forward pass\n",
    "    # and backpropagation and adjust the weights accordingly.\n",
    "    for i in range(len(training_images)):\n",
    "        # Forward propagation/forward pass:\n",
    "        # 1. The input layer:\n",
    "        #    Initialize the training image data as inputs.\n",
    "        layer_0 = training_images[i]\n",
    "        # 2. The hidden layer:\n",
    "        #    Take in the training image data into the middle layer by\n",
    "        #    matrix-multiplying it by randomly initialized weights.\n",
    "        layer_1 = np.dot(layer_0, weights_1)\n",
    "        # 3. Pass the hidden layer's output through the ReLU activation function.\n",
    "        layer_1 = relu(layer_1)\n",
    "        # 4. Define the dropout function for regularization.\n",
    "        dropout_mask = rng.integers(low=0, high=2, size=layer_1.shape)\n",
    "        # 5. Apply dropout to the hidden layer's output.\n",
    "        layer_1 *= dropout_mask * 2\n",
    "        # 6. The output layer:\n",
    "        #    Ingest the output of the middle layer into the the final layer\n",
    "        #    by matrix-multiplying it by randomly initialized weights.\n",
    "        #    Produce a 10-dimension vector with 10 scores.\n",
    "        layer_2 = np.dot(layer_1, weights_2)\n",
    "\n",
    "        # Backpropagation/backward pass:\n",
    "        # 1. Measure the training error (loss function) between the actual\n",
    "        #    image labels (the truth) and the prediction by the model.\n",
    "        training_loss += np.sum((training_labels[i] - layer_2) ** 2)\n",
    "        # 2. Increment the accurate prediction count.\n",
    "        training_accurate_predictions += int(\n",
    "            np.argmax(layer_2) == np.argmax(training_labels[i])\n",
    "        )\n",
    "        # 3. Differentiate the loss function/error.\n",
    "        layer_2_delta = training_labels[i] - layer_2\n",
    "        # 4. Propagate the gradients of the loss function back through the hidden layer.\n",
    "        layer_1_delta = np.dot(weights_2, layer_2_delta) * relu2deriv(layer_1)\n",
    "        # 5. Apply the dropout to the gradients.\n",
    "        layer_1_delta *= dropout_mask\n",
    "        # 6. Update the weights for the middle and input layers\n",
    "        #    by multiplying them by the learning rate and the gradients.\n",
    "        weights_1 += learning_rate * np.outer(layer_0, layer_1_delta)\n",
    "        weights_2 += learning_rate * np.outer(layer_1, layer_2_delta)\n",
    "\n",
    "    # Store training set losses and accurate predictions.\n",
    "    store_training_loss.append(training_loss)\n",
    "    store_training_accurate_pred.append(training_accurate_predictions)\n",
    "\n",
    "    ###################\n",
    "    # Evaluation step #\n",
    "    ###################\n",
    "\n",
    "    # Evaluate model performance on the test set at each epoch.\n",
    "\n",
    "    # Unlike the training step, the weights are not modified for each image\n",
    "    # (or batch). Therefore the model can be applied to the test images in a\n",
    "    # vectorized manner, eliminating the need to loop over each image\n",
    "    # individually:\n",
    "\n",
    "    results = relu(test_images @ weights_1) @ weights_2\n",
    "\n",
    "    # Measure the error between the actual label (truth) and prediction values.\n",
    "    test_loss = np.sum((test_labels - results) ** 2)\n",
    "\n",
    "    # Measure prediction accuracy on test set\n",
    "    test_accurate_predictions = np.sum(\n",
    "        np.argmax(results, axis=1) == np.argmax(test_labels, axis=1)\n",
    "    )\n",
    "\n",
    "    # Store test set losses and accurate predictions.\n",
    "    store_test_loss.append(test_loss)\n",
    "    store_test_accurate_pred.append(test_accurate_predictions)\n",
    "\n",
    "    # Summarize error and accuracy metrics at each epoch\n",
    "    print(\n",
    "        (\n",
    "            f\"Epoch: {j}\\n\"\n",
    "            f\"  Training set error: {training_loss / len(training_images):.3f}\\n\"\n",
    "            f\"  Training set accuracy: {training_accurate_predictions / len(training_images)}\\n\"\n",
    "            f\"  Test set error: {test_loss / len(test_images):.3f}\\n\"\n",
    "            f\"  Test set accuracy: {test_accurate_predictions / len(test_images)}\"\n",
    "        )\n",
    "    )"
   ]
  },
  {
   "cell_type": "markdown",
   "id": "4807d0d1",
   "metadata": {},
   "source": [
    "After executing the cell above, you can visualize and test set errors and accuracy for an instance of this training process."
   ]
  },
  {
   "cell_type": "code",
   "execution_count": 198,
   "id": "6cedc264",
   "metadata": {},
   "outputs": [
    {
     "data": {
      "image/png": "[encoded data removed]",
      "text/plain": [
       "<Figure size 1500x500 with 2 Axes>"
      ]
     },
     "metadata": {},
     "output_type": "display_data"
    }
   ],
   "source": [
    "epoch_range = np.arange(epochs) + 1 # Starting from 1\n",
    "\n",
    "# The training set metrics\n",
    "training_metrics = {\n",
    "    \"accuracy\": np.asarray(store_training_accurate_pred) / len(training_images),\n",
    "    \"error\": np.asarray(store_training_loss) / len(training_images)\n",
    "}\n",
    "\n",
    "# The test set metrics\n",
    "test_metrics = {\n",
    "    \"accuracy\": np.asarray(store_test_accurate_pred) / len(test_images),\n",
    "    \"error\": np.asarray(store_test_loss) / len(test_images),\n",
    "}\n",
    "\n",
    "# Display the plots\n",
    "fig, axes = plt.subplots(nrows=1, ncols=2, figsize=(15, 5))\n",
    "for ax, metrics, title in zip(\n",
    "    axes, (training_metrics, test_metrics), (\"Training set\", \"Test set\")\n",
    "):\n",
    "    for metric, values in metrics.items():\n",
    "        ax.plot(epoch_range, values, label=metric.capitalize())\n",
    "    ax.set_title(title)\n",
    "    ax.set_xlabel(\"Epochs\")\n",
    "    ax.legend()\n",
    "plt.show()"
   ]
  },
  {
   "cell_type": "markdown",
   "id": "c1b669fd",
   "metadata": {},
   "source": [
    "The training and testing error is shown above in the left and right plots, respectively. As the number of Epochs increases, the total error decreases and the accuracy increases.\n",
    "\n",
    "The accuracy rates that your model reaches during training and testing may be somewhat plausible but you may also find the error rates to be quite high.\n",
    "\n",
    "To reduce the error during training and testing, you can consider changing the simple loss function to, for example, categorical cross-entropy. Other possible solutions are discussed below."
   ]
  },
  {
   "cell_type": "markdown",
   "id": "1d67cd08",
   "metadata": {},
   "source": [
    "# Next Steps\n",
    "\n",
    "You have learned how to build and train a simple feed-forward neural network from scratch using just NumPy to classify handwritten MNIST digits.\n",
    "\n",
    "To further enhance and optimize your neural network model, you can consider one of a mixture of the following:\n",
    "\n",
    "- Increase the training sample size from 1,000 to a higher number (up to 60,000).\n",
    "- Use mini-batches and reduce the learning rate.\n",
    "- Alter the architecture by introducing more hidden layers to make the network deeper.\n",
    "- Combine the cross-entropy loss function with a softmax activation function in the last layer.\n",
    "- Introduce convolutional neural network architecture (likely not applicable to your future use cases with data analysis and LLM implementation).\n",
    "- Use a higher epoch size to train longer and add more regularization techniques, such as early stopping, to prevent overfitting.\n",
    "- Introduce a validation set for an unbiased valuation of the model fit.\n",
    "- Apply batch normalization for faster and more stable training.\n",
    "- Tune other parameters, such as the learning rate and hidden layer size.\n",
    "\n",
    "Building a neural network from scratch with NumPy is a great way to learn more about NumPy and about deep learning. However, for real world applications you should use specialized frameworks - such as PyTorch, JAX, TensorFlow, or MXNet - that provide NumPy - like APIs, have built-in automatic differentiation and GPU support, and are designed for high performance numerical computing and machine learning."
   ]
  }
 ],
 "metadata": {
  "kernelspec": {
   "display_name": "learning",
   "language": "python",
   "name": "python3"
  },
  "language_info": {
   "codemirror_mode": {
    "name": "ipython",
    "version": 3
   },
   "file_extension": ".py",
   "mimetype": "text/x-python",
   "name": "python",
   "nbconvert_exporter": "python",
   "pygments_lexer": "ipython3",
   "version": "3.13.5"
  }
 },
 "nbformat": 4,
 "nbformat_minor": 5
}
