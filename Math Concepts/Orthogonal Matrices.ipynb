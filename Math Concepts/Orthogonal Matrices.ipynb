{
 "cells": [
  {
   "cell_type": "markdown",
   "id": "3ff2f099",
   "metadata": {},
   "source": [
    "# What is an Orthogonal Matrix?\n",
    "\n",
    "[Resource](https://www.thesecuritybuddy.com/linear-algebra/how-to-create-an-orthogonal-matrix-using-python-numpy/)\n",
    "\n",
    "A **square matrix** is said to be an orthogonal matrix if the following condition holds true:\n",
    "\n",
    "AA^T = A^T A = I\n",
    "\n",
    "Now, we know that, if A and B are two matrices such that the following condition holds true:\n",
    "\n",
    "AB = I\n",
    "B = A^-1\n",
    "\n",
    "then, B is said to be the inverse of matrix A.\n",
    "\n",
    "So, we can say that for an orthogonal matrix A:\n",
    "\n",
    "AA^T = A^TA = I\n",
    "A^T = A^-1\n",
    "\n",
    "So, in other words, a square matrix A is an orthogonal matrix, if the transpose of the matrix A is equal to the inverse of the matrix A.\n",
    "\n",
    "For example, let's say A is the following matrix:"
   ]
  },
  {
   "cell_type": "code",
   "execution_count": 4,
   "id": "b6dc3d14",
   "metadata": {},
   "outputs": [
    {
     "data": {
      "text/plain": [
       "array([[ 1,  0],\n",
       "       [ 0, -1]])"
      ]
     },
     "execution_count": 4,
     "metadata": {},
     "output_type": "execute_result"
    }
   ],
   "source": [
    "import numpy as np\n",
    "\n",
    "# 2D array\n",
    "A = np.array([[1, 0],\n",
    "              [0, -1]])\n",
    "A"
   ]
  },
  {
   "cell_type": "markdown",
   "id": "d4801845",
   "metadata": {},
   "source": [
    "The transpose of A is:"
   ]
  },
  {
   "cell_type": "code",
   "execution_count": 24,
   "id": "20a1a80a",
   "metadata": {},
   "outputs": [
    {
     "name": "stdout",
     "output_type": "stream",
     "text": [
      "[[ 1  0]\n",
      " [ 0 -1]] \n",
      "\n",
      "[[ True  True]\n",
      " [ True  True]]\n",
      "[[ True  True]\n",
      " [ True  True]]\n"
     ]
    }
   ],
   "source": [
    "At = np.transpose(A)\n",
    "\n",
    "I = np.linalg.inv(A)\n",
    "\n",
    "equal_check1 = A == At\n",
    "equal_check2 = At == I\n",
    "\n",
    "print(At,\"\\n\")\n",
    "print(equal_check1)\n",
    "print(equal_check2)"
   ]
  },
  {
   "cell_type": "markdown",
   "id": "b16365cf",
   "metadata": {},
   "source": [
    "In other words, the transpose of matrix `A` is equal to the inverse of matrix `A`.\n",
    "\n",
    "And,"
   ]
  },
  {
   "cell_type": "code",
   "execution_count": 10,
   "id": "88d13f86",
   "metadata": {},
   "outputs": [
    {
     "name": "stdout",
     "output_type": "stream",
     "text": [
      "`AAt`\n",
      "[[1 0]\n",
      " [0 1]]\n",
      "\n",
      "`I`\n",
      "[[1 0]\n",
      " [0 1]]\n",
      "\n"
     ]
    }
   ],
   "source": [
    "AAt = A * At\n",
    "print(f\"`AAt`\\n{AAt}\\n\")\n",
    "\n",
    "I = AAt\n",
    "print(f\"`I`\\n{I}\\n\")"
   ]
  },
  {
   "cell_type": "markdown",
   "id": "f1289a8e",
   "metadata": {},
   "source": [
    "Therefore,"
   ]
  },
  {
   "cell_type": "code",
   "execution_count": 16,
   "id": "75273e2d",
   "metadata": {},
   "outputs": [
    {
     "name": "stdout",
     "output_type": "stream",
     "text": [
      "`AAt`\n",
      "[[1 0]\n",
      " [0 1]]\n",
      "=\n",
      "At * A\n",
      "[[1 0]\n",
      " [0 1]]\n",
      "=\n",
      "`I`\n",
      "[[1 0]\n",
      " [0 1]]\n"
     ]
    }
   ],
   "source": [
    "print(f\"`AAt`\\n{AAt}\\n=\")\n",
    "\n",
    "print(f\"At * A\\n{At * A}\\n=\")\n",
    "\n",
    "print(f\"`I`\\n{I}\")"
   ]
  },
  {
   "cell_type": "markdown",
   "id": "6da5843e",
   "metadata": {},
   "source": [
    "Hence, AQ is an orthogonal matrix."
   ]
  }
 ],
 "metadata": {
  "kernelspec": {
   "display_name": "learning",
   "language": "python",
   "name": "python3"
  },
  "language_info": {
   "codemirror_mode": {
    "name": "ipython",
    "version": 3
   },
   "file_extension": ".py",
   "mimetype": "text/x-python",
   "name": "python",
   "nbconvert_exporter": "python",
   "pygments_lexer": "ipython3",
   "version": "3.13.5"
  }
 },
 "nbformat": 4,
 "nbformat_minor": 5
}
