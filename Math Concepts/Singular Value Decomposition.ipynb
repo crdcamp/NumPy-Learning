{
 "cells": [
  {
   "cell_type": "markdown",
   "id": "07c9d728",
   "metadata": {},
   "source": [
    "# Understanding the Components of SVD\n",
    "\n",
    "[Resource](https://codesignal.com/learn/courses/eigenvalues-eigenvectors-and-diagonalization-with-numpy/lessons/singular-value-decomposition-svd-with-numpy)\n",
    "\n",
    "Singular Value Decomposition decomposes a given matrix A into three simpler matrices: U, S, and V^T. When you decompose matrix A, the singular values are the diagonal entries of the <mi mathvariant=\"normal\">&#x3A3;</mi> matrix. THey measure how much each corresponding pair of singular vectors (columns of U and V) contributes to reconstructing the original matrix.\n",
    "\n",
    "- **U Matrix:** An orthogonal matrix that represents the left singular vectors\n",
    "- **Singular Values (S)** These are diagonal elements and represent the magnitudes of the axes.\n",
    "- **V Transpose Matrix (V^T):** Another orthogonal matrix representing the right singular vectors.\n",
    "\n",
    "Imagine each matrix as playing a role in a transformation. By breaking down A into three components, we can analyze and manipulate the matrix in more intuitive ways.\n",
    "\n",
    "## Definitions\n",
    "\n",
    "**Orthogonal Matrix**\n",
    "\n",
    "Refer to `Orthogonal Matrices.ipynb`.\n",
    "\n",
    "**Left Singular Vectors**\n",
    "\n",
    "The columns of matrix U. They represent the directions of maximum variance in the output space when A acts as a linear transformation.\n",
    "\n",
    "**Right Singular Vectors**\n",
    "\n",
    "The columns of matrix V. These are also orthogonal vectors that span the row space of A. They represent the maximum variance in the input space."
   ]
  },
  {
   "cell_type": "markdown",
   "id": "6fe20788",
   "metadata": {},
   "source": [
    "# Hands-On Example\n",
    "\n",
    "Let's walk through an example to see how SVD is performed using NumPy. We'll use the following matrix and decompose it using NumPy's SVD function:"
   ]
  },
  {
   "cell_type": "code",
   "execution_count": 23,
   "id": "c2aa5b3b",
   "metadata": {},
   "outputs": [
    {
     "name": "stdout",
     "output_type": "stream",
     "text": [
      "Matrix:\n",
      " [[1 2 3]\n",
      " [4 5 6]]\n",
      "U Matrix:\n",
      " [[-0.3863177  -0.92236578]\n",
      " [-0.92236578  0.3863177 ]]\n",
      "Singular Values: [9.508032   0.77286964]\n",
      "V Transpose Matrix:\n",
      " [[-0.42866713 -0.56630692 -0.7039467 ]\n",
      " [ 0.80596391  0.11238241 -0.58119908]\n",
      " [ 0.40824829 -0.81649658  0.40824829]]\n"
     ]
    }
   ],
   "source": [
    "import numpy as np\n",
    "\n",
    "matrix = np.array([[1, 2, 3],\n",
    "                  [4, 5, 6]])\n",
    "\n",
    "U, S, Vt = np.linalg.svd(matrix)\n",
    "\n",
    "print(\"Matrix:\\n\", matrix)\n",
    "print(\"U Matrix:\\n\", U)\n",
    "print(\"Singular Values:\", S)\n",
    "print(\"V Transpose Matrix:\\n\", Vt)"
   ]
  },
  {
   "cell_type": "markdown",
   "id": "bf641807",
   "metadata": {},
   "source": [
    "# Interpreting SVD Results\n",
    "\n",
    "Now that we've obtained the results, let's interpret them:\n",
    "\n",
    "- The **U Matrix** provides the directions of the left singular vectors, showing how the rows are transformed.\n",
    "- The **Singular Values** reflect the magnitude by which the data is stretched in each direction.\n",
    "- The **V Transpose Matrix** specifies the directions of the right singular vectors, indicating how the columns are transformed.\n",
    "\n",
    "These components help us understand and manipulate data effectively, making SVD a valuable technique in data processing and improvement."
   ]
  },
  {
   "cell_type": "markdown",
   "id": "4b295935",
   "metadata": {},
   "source": [
    "# My Personal Example\n",
    "\n",
    "You can also use the `scipy` module to create orthogonal matrices:"
   ]
  },
  {
   "cell_type": "code",
   "execution_count": 16,
   "id": "ac816aca",
   "metadata": {},
   "outputs": [
    {
     "name": "stdout",
     "output_type": "stream",
     "text": [
      "[[-0.4036125   0.91493002]\n",
      " [-0.91493002 -0.4036125 ]]\n"
     ]
    },
    {
     "data": {
      "text/plain": [
       "True"
      ]
     },
     "execution_count": 16,
     "metadata": {},
     "output_type": "execute_result"
    }
   ],
   "source": [
    "from scipy.stats import ortho_group\n",
    "\n",
    "A = ortho_group.rvs(dim=2)\n",
    "print(A)\n",
    "\n",
    "A_inverse = np.linalg.inv(A)\n",
    "A_transpose = np.transpose(A)\n",
    "\n",
    "equal_check = np.allclose(A_inverse, A_transpose)\n",
    "equal_check"
   ]
  },
  {
   "cell_type": "code",
   "execution_count": 17,
   "id": "876d4224",
   "metadata": {},
   "outputs": [
    {
     "name": "stdout",
     "output_type": "stream",
     "text": [
      "Original A\n",
      "[[-0.4036125   0.91493002]\n",
      " [-0.91493002 -0.4036125 ]]\n",
      "\n",
      "Inverse A\n",
      "[[-0.4036125  -0.91493002]\n",
      " [ 0.91493002 -0.4036125 ]]\n",
      "\n",
      "Transposed A\n",
      "[[-0.4036125  -0.91493002]\n",
      " [ 0.91493002 -0.4036125 ]]\n"
     ]
    }
   ],
   "source": [
    "print(f\"Original A\\n{A}\\n\")\n",
    "print(f\"Inverse A\\n{A_inverse}\\n\")\n",
    "print(f\"Transposed A\\n{A_transpose}\")"
   ]
  }
 ],
 "metadata": {
  "kernelspec": {
   "display_name": "learning",
   "language": "python",
   "name": "python3"
  },
  "language_info": {
   "codemirror_mode": {
    "name": "ipython",
    "version": 3
   },
   "file_extension": ".py",
   "mimetype": "text/x-python",
   "name": "python",
   "nbconvert_exporter": "python",
   "pygments_lexer": "ipython3",
   "version": "3.13.5"
  }
 },
 "nbformat": 4,
 "nbformat_minor": 5
}
