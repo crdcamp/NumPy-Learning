{
 "cells": [
  {
   "cell_type": "markdown",
   "id": "07c9d728",
   "metadata": {},
   "source": [
    "# Understanding the Components of SVD\n",
    "\n",
    "[Resource](https://codesignal.com/learn/courses/eigenvalues-eigenvectors-and-diagonalization-with-numpy/lessons/singular-value-decomposition-svd-with-numpy)\n",
    "\n",
    "Singular Value Decomposition decomposes a given matrix A into three simpler matrices: U, S, and V^T. When you decompose matrix A, the singular values are the diagonal entries of the <mi mathvariant=\"normal\">&#x3A3;</mi> matrix. THey measure how much each corresponding pair of singular vectors (columns of U and V) contributes to reconstructing the original matrix.\n",
    "\n",
    "- **U Matrix:** An orthogonal matrix that represents the left singular vectors\n",
    "\n",
    "\n",
    "#### Definitions\n",
    "\n",
    "**Orthogonal Matrix**\n",
    "\n",
    "An orthogonal matrix is a square matrix whose transpose is equal to the inverse of the matrix. We know that is the transpose of a matrix is equal to the original matrix, then it's a symmetric matrix.\n",
    "\n",
    "But, if the transpose of a matrix is equal to the inverse of the original matrix, then it's called an orthogonal matrix."
   ]
  },
  {
   "cell_type": "code",
   "execution_count": 1,
   "id": "c2aa5b3b",
   "metadata": {},
   "outputs": [],
   "source": [
    "import numpy as np"
   ]
  }
 ],
 "metadata": {
  "kernelspec": {
   "display_name": "learning",
   "language": "python",
   "name": "python3"
  },
  "language_info": {
   "codemirror_mode": {
    "name": "ipython",
    "version": 3
   },
   "file_extension": ".py",
   "mimetype": "text/x-python",
   "name": "python",
   "nbconvert_exporter": "python",
   "pygments_lexer": "ipython3",
   "version": "3.13.5"
  }
 },
 "nbformat": 4,
 "nbformat_minor": 5
}
