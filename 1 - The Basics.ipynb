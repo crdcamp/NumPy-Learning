{
 "cells": [
  {
   "cell_type": "markdown",
   "id": "94dcbb2b",
   "metadata": {},
   "source": [
    "[Resource](https://numpy.org/devdocs/user/quickstart.html)"
   ]
  },
  {
   "cell_type": "markdown",
   "id": "b08195e2",
   "metadata": {},
   "source": [
    "# The Basics\n",
    "\n",
    "NumPy's main object is the homogeneous multidimensional array. It's a table of elements (usually numbers), all of the same type, indexed by a tuple of non-negative integers. In NumPy dimensions are called *axes*.\n",
    "\n",
    "For example, the array for the coordinates of a point in 3D space, `[1, 2, 1]`, has one axis. That axis has 3 elements in it, so we say it has a length of 3. In the example pictured below, the array has 2 axes. The first axis has a length of 2, the second axis has a length of 3.\n",
    "\n",
    "```terminal\n",
    "[[1., 0., 0.],\n",
    " [0., 1., 2.]]\n",
    " ```\n",
    "\n",
    " NumPy's array class is called `ndarray`. It is also known by the alias `array`. Note that `numpy.array` is not the same as the Standard Python Library class `array.array`, which only handles one-dimensional arrays and offers less functionality. The more important attributes of an `ndarray` object are:\n",
    "\n",
    " **ndarray.ndim**\n",
    "\n",
    "The number of axes (dimensions) of the array.\n",
    "\n",
    "**ndarray.shape**\n",
    "\n",
    "The dimensions of the array. This is a tuple of integers indicating the size of the array in each dimension. For a matrix with *n* rows and *m* columns, `shape` will be `(n,m)`. The length of the `shape` tuple is therefore the number of aces, `ndim`.\n",
    "\n",
    "**ndarray.size**\n",
    "\n",
    "The total number of elements of the array. This is equal to the product of the elements of `shape`.\n",
    "\n",
    "**ndarray.dtype**\n",
    "\n",
    "An object describing the type of the elements in the array. One can create or specify dtype's using standard Python types. Additionally, NumPy provides types of its own. numpy.int32, numpy.int16, and numpy.float64 are some examples.\n",
    "\n",
    "**ndarray.itemsize**\n",
    "\n",
    "The size in bytes of each element of the array. For example, an array of elements of type `float64` has `itemsixe` 8 (=64/8), while one of type `complex32` has `itemsize` 4 (=32/8). It's equivalent to `ndarray.dtype.itemsize`.\n",
    "\n",
    "**ndarray.data**\n",
    "\n",
    "The buffer containing the actual elements of the array. Normally, we won't need to use this attribute because we will access the elements in an array using indexing facilities.\n"
   ]
  },
  {
   "cell_type": "code",
   "execution_count": 1,
   "id": "48266d5d",
   "metadata": {},
   "outputs": [
    {
     "name": "stdout",
     "output_type": "stream",
     "text": [
      "`a`\n",
      "[[ 0  1  2  3  4]\n",
      " [ 5  6  7  8  9]\n",
      " [10 11 12 13 14]]\n",
      "\n",
      "Shape: (3, 5)\n",
      "Dimensions: 2\n",
      "Data Type: int64\n",
      "Size in bytes of each array element: 8\n",
      "Total number of elements of the array: 15\n",
      "Type: <class 'numpy.ndarray'>\n",
      "\n",
      "`b`\n",
      "[6 7 8]\n",
      "Type: <class 'numpy.ndarray'>\n"
     ]
    }
   ],
   "source": [
    "import numpy as np\n",
    "\n",
    "a = np.arange(15).reshape(3, 5)\n",
    "print(f\"`a`\\n{a}\\n\")\n",
    "print(f\"Shape: {a.shape}\")\n",
    "print(f\"Dimensions: {a.ndim}\")\n",
    "print(f\"Data Type: {a.dtype.name}\")\n",
    "print(f\"Size in bytes of each array element: {a.itemsize}\")\n",
    "print(f\"Total number of elements of the array: {a.size}\")\n",
    "print(f\"Type: {type(a)}\\n\")\n",
    "\n",
    "b = np.array([6, 7, 8])\n",
    "print(f\"`b`\\n{b}\")\n",
    "print(f\"Type: {type(b)}\")"
   ]
  },
  {
   "cell_type": "markdown",
   "id": "364b039b",
   "metadata": {},
   "source": [
    "# Array Creation\n",
    "\n",
    "There are several ways to create arrays.\n",
    "\n",
    "For example, you can create an array from a regular Python list or tuple using the `array` function. The type of the resulting array is deduced from the type of the elements in the sequences."
   ]
  },
  {
   "cell_type": "code",
   "execution_count": 2,
   "id": "2539c233",
   "metadata": {},
   "outputs": [
    {
     "name": "stdout",
     "output_type": "stream",
     "text": [
      "`a`\n",
      "[2 3 4]\n",
      "Data Type: int64\n",
      "\n",
      "`b`\n",
      "[1.2 3.5 5.1]\n",
      "Data Type: float64\n"
     ]
    }
   ],
   "source": [
    "a = np.array([2, 3, 4])\n",
    "print(f\"`a`\\n{a}\")\n",
    "print(f\"Data Type: {a.dtype}\\n\")\n",
    "\n",
    "b = np.array([1.2, 3.5, 5.1])\n",
    "print(f\"`b`\\n{b}\")\n",
    "print(f\"Data Type: {b.dtype}\")"
   ]
  },
  {
   "cell_type": "markdown",
   "id": "dec2d709",
   "metadata": {},
   "source": [
    "A frequent error consists in calling `array` with multiple arguments, rather than providing a single sequence as an argument."
   ]
  },
  {
   "cell_type": "code",
   "execution_count": 3,
   "id": "7a7e0276",
   "metadata": {},
   "outputs": [
    {
     "ename": "TypeError",
     "evalue": "array() takes from 1 to 2 positional arguments but 4 were given",
     "output_type": "error",
     "traceback": [
      "\u001b[31m---------------------------------------------------------------------------\u001b[39m",
      "\u001b[31mTypeError\u001b[39m                                 Traceback (most recent call last)",
      "\u001b[36mCell\u001b[39m\u001b[36m \u001b[39m\u001b[32mIn[3]\u001b[39m\u001b[32m, line 1\u001b[39m\n\u001b[32m----> \u001b[39m\u001b[32m1\u001b[39m a = \u001b[43mnp\u001b[49m\u001b[43m.\u001b[49m\u001b[43marray\u001b[49m\u001b[43m(\u001b[49m\u001b[32;43m1\u001b[39;49m\u001b[43m,\u001b[49m\u001b[43m \u001b[49m\u001b[32;43m2\u001b[39;49m\u001b[43m,\u001b[49m\u001b[43m \u001b[49m\u001b[32;43m3\u001b[39;49m\u001b[43m,\u001b[49m\u001b[43m \u001b[49m\u001b[32;43m4\u001b[39;49m\u001b[43m)\u001b[49m\n",
      "\u001b[31mTypeError\u001b[39m: array() takes from 1 to 2 positional arguments but 4 were given"
     ]
    }
   ],
   "source": [
    "a = np.array(1, 2, 3, 4)"
   ]
  },
  {
   "cell_type": "code",
   "execution_count": null,
   "id": "b2f1d1c2",
   "metadata": {},
   "outputs": [
    {
     "data": {
      "text/plain": [
       "array([1, 2, 3, 4])"
      ]
     },
     "execution_count": 22,
     "metadata": {},
     "output_type": "execute_result"
    }
   ],
   "source": [
    "a = np.array([1, 2, 3, 4])\n",
    "a"
   ]
  },
  {
   "cell_type": "markdown",
   "id": "f045e7a2",
   "metadata": {},
   "source": [
    "`array` transforms sequences of sequences into two-dimensional arrays, sequences of sequences of sequences into three-dimensional arrays, and so on."
   ]
  },
  {
   "cell_type": "code",
   "execution_count": null,
   "id": "4966709a",
   "metadata": {},
   "outputs": [
    {
     "data": {
      "text/plain": [
       "array([[1.5, 2. , 3. ],\n",
       "       [4. , 5. , 6. ]])"
      ]
     },
     "execution_count": 23,
     "metadata": {},
     "output_type": "execute_result"
    }
   ],
   "source": [
    "b = np.array([(1.5, 2, 3), (4, 5, 6)])\n",
    "b"
   ]
  },
  {
   "cell_type": "markdown",
   "id": "a64ab176",
   "metadata": {},
   "source": [
    "The type of the array can also be explicitly specified at creation time:"
   ]
  },
  {
   "cell_type": "code",
   "execution_count": null,
   "id": "ea705067",
   "metadata": {},
   "outputs": [
    {
     "data": {
      "text/plain": [
       "array([[1.+0.j, 2.+0.j],\n",
       "       [3.+0.j, 4.+0.j]])"
      ]
     },
     "execution_count": 24,
     "metadata": {},
     "output_type": "execute_result"
    }
   ],
   "source": [
    "c = np.array([[1, 2], [3, 4]], dtype=complex)\n",
    "c"
   ]
  },
  {
   "cell_type": "markdown",
   "id": "1ef39e9b",
   "metadata": {},
   "source": [
    "Often, the elements of an array are originally unknown, but its size is known. Hence, NumPy offers several functions to create arrays with initial placeholder content. These minimize the necessity of growing arrays, as an expensive operation.\n",
    "\n",
    "The function `zeros` creates an array full of zeros, the function `ones` creates an array full of ones, and the function `empty` creates an array whose initial content is random and depends on the state of the memory. By default, the dtype of the created array id `float64`, but it can be specified via the key word argument `dtype`."
   ]
  },
  {
   "cell_type": "code",
   "execution_count": null,
   "id": "869337c8",
   "metadata": {},
   "outputs": [
    {
     "name": "stdout",
     "output_type": "stream",
     "text": [
      "`a`\n",
      "[[0. 0. 0. 0.]\n",
      " [0. 0. 0. 0.]\n",
      " [0. 0. 0. 0.]]\n",
      "\n",
      "`b`\n",
      "[[[1 1 1 1]\n",
      "  [1 1 1 1]\n",
      "  [1 1 1 1]]\n",
      "\n",
      " [[1 1 1 1]\n",
      "  [1 1 1 1]\n",
      "  [1 1 1 1]]]\n",
      "\n",
      "`c`\n",
      "[[0.51606859 0.11586561 0.62348976]\n",
      " [0.77668311 0.6130033  0.9172977 ]]\n",
      "\n"
     ]
    }
   ],
   "source": [
    "a = np.zeros((3, 4))\n",
    "print(f\"`a`\\n{a}\\n\")\n",
    "\n",
    "b = np.ones((2, 3, 4), dtype=np.int16)\n",
    "print(f\"`b`\\n{b}\\n\")\n",
    "\n",
    "c = np.empty((2, 3))\n",
    "print(f\"`c`\\n{c}\\n\")"
   ]
  },
  {
   "cell_type": "markdown",
   "id": "7f2da33f",
   "metadata": {},
   "source": [
    "To create sequences of numbers, NumPy provides the `arange` function which is analogous to the Python built-in `range`, but returns an array."
   ]
  },
  {
   "cell_type": "code",
   "execution_count": null,
   "id": "479fd7b0",
   "metadata": {},
   "outputs": [
    {
     "name": "stdout",
     "output_type": "stream",
     "text": [
      "`a`\n",
      "[10 15 20 25]\n",
      "\n",
      "`b`\n",
      "[0.  0.3 0.6 0.9 1.2 1.5 1.8]\n",
      "\n"
     ]
    }
   ],
   "source": [
    "a = np.arange(10, 30, 5)\n",
    "print(f\"`a`\\n{a}\\n\")\n",
    "\n",
    "b = np.arange(0, 2, 0.3)\n",
    "print(f\"`b`\\n{b}\\n\")"
   ]
  },
  {
   "cell_type": "markdown",
   "id": "e4b3327c",
   "metadata": {},
   "source": [
    "When `arange` is used with floating point arguments, it's generally not possible to predict the number of elements obtained, due to the finite floating point precision. For this reason, it's usually better to use the function `linspace` that receives as an argument the number of elements that we want, instead of the step:"
   ]
  },
  {
   "cell_type": "code",
   "execution_count": null,
   "id": "0af05f17",
   "metadata": {},
   "outputs": [
    {
     "name": "stdout",
     "output_type": "stream",
     "text": [
      "`x`\n",
      "[0.         0.06346652 0.12693304 0.19039955 0.25386607 0.31733259\n",
      " 0.38079911 0.44426563 0.50773215 0.57119866 0.63466518 0.6981317\n",
      " 0.76159822 0.82506474 0.88853126 0.95199777 1.01546429 1.07893081\n",
      " 1.14239733 1.20586385 1.26933037 1.33279688 1.3962634  1.45972992\n",
      " 1.52319644 1.58666296 1.65012947 1.71359599 1.77706251 1.84052903\n",
      " 1.90399555 1.96746207 2.03092858 2.0943951  2.15786162 2.22132814\n",
      " 2.28479466 2.34826118 2.41172769 2.47519421 2.53866073 2.60212725\n",
      " 2.66559377 2.72906028 2.7925268  2.85599332 2.91945984 2.98292636\n",
      " 3.04639288 3.10985939 3.17332591 3.23679243 3.30025895 3.36372547\n",
      " 3.42719199 3.4906585  3.55412502 3.61759154 3.68105806 3.74452458\n",
      " 3.8079911  3.87145761 3.93492413 3.99839065 4.06185717 4.12532369\n",
      " 4.1887902  4.25225672 4.31572324 4.37918976 4.44265628 4.5061228\n",
      " 4.56958931 4.63305583 4.69652235 4.75998887 4.82345539 4.88692191\n",
      " 4.95038842 5.01385494 5.07732146 5.14078798 5.2042545  5.26772102\n",
      " 5.33118753 5.39465405 5.45812057 5.52158709 5.58505361 5.64852012\n",
      " 5.71198664 5.77545316 5.83891968 5.9023862  5.96585272 6.02931923\n",
      " 6.09278575 6.15625227 6.21971879 6.28318531]\n",
      "\n",
      "`f`\n",
      "[ 0.00000000e+00  6.34239197e-02  1.26592454e-01  1.89251244e-01\n",
      "  2.51147987e-01  3.12033446e-01  3.71662456e-01  4.29794912e-01\n",
      "  4.86196736e-01  5.40640817e-01  5.92907929e-01  6.42787610e-01\n",
      "  6.90079011e-01  7.34591709e-01  7.76146464e-01  8.14575952e-01\n",
      "  8.49725430e-01  8.81453363e-01  9.09631995e-01  9.34147860e-01\n",
      "  9.54902241e-01  9.71811568e-01  9.84807753e-01  9.93838464e-01\n",
      "  9.98867339e-01  9.99874128e-01  9.96854776e-01  9.89821442e-01\n",
      "  9.78802446e-01  9.63842159e-01  9.45000819e-01  9.22354294e-01\n",
      "  8.95993774e-01  8.66025404e-01  8.32569855e-01  7.95761841e-01\n",
      "  7.55749574e-01  7.12694171e-01  6.66769001e-01  6.18158986e-01\n",
      "  5.67059864e-01  5.13677392e-01  4.58226522e-01  4.00930535e-01\n",
      "  3.42020143e-01  2.81732557e-01  2.20310533e-01  1.58001396e-01\n",
      "  9.50560433e-02  3.17279335e-02 -3.17279335e-02 -9.50560433e-02\n",
      " -1.58001396e-01 -2.20310533e-01 -2.81732557e-01 -3.42020143e-01\n",
      " -4.00930535e-01 -4.58226522e-01 -5.13677392e-01 -5.67059864e-01\n",
      " -6.18158986e-01 -6.66769001e-01 -7.12694171e-01 -7.55749574e-01\n",
      " -7.95761841e-01 -8.32569855e-01 -8.66025404e-01 -8.95993774e-01\n",
      " -9.22354294e-01 -9.45000819e-01 -9.63842159e-01 -9.78802446e-01\n",
      " -9.89821442e-01 -9.96854776e-01 -9.99874128e-01 -9.98867339e-01\n",
      " -9.93838464e-01 -9.84807753e-01 -9.71811568e-01 -9.54902241e-01\n",
      " -9.34147860e-01 -9.09631995e-01 -8.81453363e-01 -8.49725430e-01\n",
      " -8.14575952e-01 -7.76146464e-01 -7.34591709e-01 -6.90079011e-01\n",
      " -6.42787610e-01 -5.92907929e-01 -5.40640817e-01 -4.86196736e-01\n",
      " -4.29794912e-01 -3.71662456e-01 -3.12033446e-01 -2.51147987e-01\n",
      " -1.89251244e-01 -1.26592454e-01 -6.34239197e-02 -2.44929360e-16]\n"
     ]
    }
   ],
   "source": [
    "from numpy import pi\n",
    "\n",
    "np.linspace(0, 2, 9) # 9 numbers from 0 to 2\n",
    "\n",
    "x = np.linspace(0, 2 * pi, 100)\n",
    "f = np.sin(x)\n",
    "\n",
    "print(f\"`x`\\n{x}\\n\")\n",
    "print(f\"`f`\\n{f}\")"
   ]
  },
  {
   "cell_type": "markdown",
   "id": "1ecadae6",
   "metadata": {},
   "source": [
    "# Printing Arrays\n",
    "\n",
    "When you print an array, NumPy displays it in a similar way to nested lists, but with the following layout:\n",
    "\n",
    "- The last axis is printed from left to right,\n",
    "- The second-to-last is printed from top to bottom,\n",
    "- the rest are also printed from top to bottom, with each slice separated from the next by an empty line.\n",
    "\n",
    "One-dimensional arrays are then printed as rows, bidimensionals as matrices and tridimensionals as lists of matrices."
   ]
  },
  {
   "cell_type": "code",
   "execution_count": null,
   "id": "d43769a3",
   "metadata": {},
   "outputs": [
    {
     "name": "stdout",
     "output_type": "stream",
     "text": [
      "`a`\n",
      "[0 1 2 3 4 5]\n",
      "\n",
      "`b`\n",
      "[[ 0  1  2]\n",
      " [ 3  4  5]\n",
      " [ 6  7  8]\n",
      " [ 9 10 11]]\n",
      "\n",
      "`c`\n",
      "[[[ 0  1  2  3]\n",
      "  [ 4  5  6  7]\n",
      "  [ 8  9 10 11]]\n",
      "\n",
      " [[12 13 14 15]\n",
      "  [16 17 18 19]\n",
      "  [20 21 22 23]]]\n",
      "\n"
     ]
    }
   ],
   "source": [
    "a = np.arange(6) # 1d array\n",
    "print(f\"`a`\\n{a}\\n\")\n",
    "\n",
    "b = np.arange(12).reshape(4, 3) # 2d array\n",
    "print(f\"`b`\\n{b}\\n\")\n",
    "\n",
    "c = np.arange(24).reshape(2, 3, 4) # 3d array\n",
    "print(f\"`c`\\n{c}\\n\")"
   ]
  },
  {
   "cell_type": "markdown",
   "id": "41a3289b",
   "metadata": {},
   "source": [
    "If an array is too large to be printed, NumPy automatically skips the central part of the array and only prints the corners:"
   ]
  },
  {
   "cell_type": "code",
   "execution_count": null,
   "id": "86f7cd66",
   "metadata": {},
   "outputs": [
    {
     "name": "stdout",
     "output_type": "stream",
     "text": [
      "[   0    1    2 ... 9997 9998 9999] \n",
      "\n",
      "[[   0    1    2 ...   97   98   99]\n",
      " [ 100  101  102 ...  197  198  199]\n",
      " [ 200  201  202 ...  297  298  299]\n",
      " ...\n",
      " [9700 9701 9702 ... 9797 9798 9799]\n",
      " [9800 9801 9802 ... 9897 9898 9899]\n",
      " [9900 9901 9902 ... 9997 9998 9999]]\n"
     ]
    }
   ],
   "source": [
    "print(np.arange(10000), \"\\n\")\n",
    "\n",
    "print(np.arange(10000).reshape(100, 100))"
   ]
  },
  {
   "cell_type": "markdown",
   "id": "967f8fda",
   "metadata": {},
   "source": [
    "To disable this behaviour and force NumPy to print the entire array, you can change the printing options using `set_printoptions`."
   ]
  },
  {
   "cell_type": "code",
   "execution_count": null,
   "id": "c377ef19",
   "metadata": {},
   "outputs": [],
   "source": [
    "import sys\n",
    "\n",
    "#np.set_printoptions(threshold=sys.maxsize)  # sys module should be imported"
   ]
  },
  {
   "cell_type": "markdown",
   "id": "9a6c6930",
   "metadata": {},
   "source": [
    "# Basic Operations\n",
    "\n",
    "Arithmetic operators on arrays apply *elementwise*. A new array is created and filled with the result."
   ]
  },
  {
   "cell_type": "code",
   "execution_count": null,
   "id": "5064c1b7",
   "metadata": {},
   "outputs": [
    {
     "name": "stdout",
     "output_type": "stream",
     "text": [
      "Array `a`:\n",
      "[20 30 40 50]\n",
      "\n",
      "Array `b`:\n",
      "[0 1 2 3]\n",
      "\n",
      "Array `c`:\n",
      "[20 29 38 47]\n",
      "\n",
      "Array `b` squared:\n",
      "[0 1 4 9]\n",
      "\n",
      "Array 10 * sin(a):\n",
      "[ 9.12945251 -9.88031624  7.4511316  -2.62374854]\n",
      "\n",
      "Array `a` < 35:\n",
      "[ True  True False False]\n"
     ]
    }
   ],
   "source": [
    "a = np.array([20, 30, 40, 50])\n",
    "print(f\"Array `a`:\\n{a}\\n\")\n",
    "\n",
    "b = np.arange(4)\n",
    "print(f\"Array `b`:\\n{b}\\n\")\n",
    "\n",
    "c = a - b\n",
    "print(f\"Array `c`:\\n{c}\\n\")\n",
    "\n",
    "print(f\"Array `b` squared:\\n{b**2}\\n\")\n",
    "\n",
    "print(f\"Array 10 * sin(a):\\n{10 * np.sin(a)}\\n\")\n",
    "\n",
    "print(f\"Array `a` < 35:\\n{a < 35}\")"
   ]
  },
  {
   "cell_type": "markdown",
   "id": "10def16b",
   "metadata": {},
   "source": [
    "Unlike in many matrix languages, the product operator `*` operates elementwise in NumPy arrays. The matrix product can be performed using the `@` operator (in python >= 3.5) or the `dot` function or method:"
   ]
  },
  {
   "cell_type": "code",
   "execution_count": null,
   "id": "a9c6e8fa",
   "metadata": {},
   "outputs": [
    {
     "name": "stdout",
     "output_type": "stream",
     "text": [
      "`a`\n",
      "[[1 1]\n",
      " [0 1]]\n",
      "\n",
      "`b`\n",
      "[[2 0]\n",
      " [3 4]]\n",
      "\n",
      "a * b\n",
      "[[2 0]\n",
      " [0 4]]\n",
      "\n",
      "a @ b\n",
      "[[5 4]\n",
      " [3 4]]\n",
      "\n",
      "a.dot(b)\n",
      "[[5 4]\n",
      " [3 4]]\n"
     ]
    }
   ],
   "source": [
    "a = np.array([[1, 1],\n",
    "              [0, 1]])\n",
    "print(f\"`a`\\n{a}\\n\")\n",
    "\n",
    "b = np.array([[2, 0],\n",
    "              [3, 4]])\n",
    "print(f\"`b`\\n{b}\\n\")\n",
    "\n",
    "# Elementwise product\n",
    "print(f\"a * b\\n{a * b}\\n\")\n",
    "\n",
    "# Matrix product\n",
    "print(f\"a @ b\\n{a @ b}\\n\")\n",
    "\n",
    "# Another matrix product\n",
    "print(f\"a.dot(b)\\n{a.dot(b)}\")"
   ]
  },
  {
   "cell_type": "markdown",
   "id": "eee4f42e",
   "metadata": {},
   "source": [
    "Some operations, such as `+=` and `*=`, act in place to modify an existing array rather than create a new one."
   ]
  },
  {
   "cell_type": "code",
   "execution_count": null,
   "id": "8d009ed3",
   "metadata": {},
   "outputs": [
    {
     "name": "stdout",
     "output_type": "stream",
     "text": [
      "`rg`\n",
      "Generator(PCG64)\n",
      "\n",
      "`a`\n",
      "[[1 1 1]\n",
      " [1 1 1]]\n",
      "\n",
      "`b`\n",
      "[[0.51182162 0.9504637  0.14415961]\n",
      " [0.94864945 0.31183145 0.42332645]]\n",
      "\n",
      "b += a\n",
      "[[1.51182162 1.9504637  1.14415961]\n",
      " [1.94864945 1.31183145 1.42332645]]\n"
     ]
    }
   ],
   "source": [
    "rg = np.random.default_rng(1) # Creates an instance of default random number generator\n",
    "print(f\"`rg`\\n{rg}\\n\")\n",
    "\n",
    "a = np.ones((2, 3), dtype=int)\n",
    "print(f\"`a`\\n{a}\\n\")\n",
    "\n",
    "b = rg.random((2, 3))\n",
    "print(f\"`b`\\n{b}\\n\")\n",
    "\n",
    "b += a\n",
    "print(f\"b += a\\n{b}\")\n",
    "\n",
    "#a += b # b is not automatically converted to integer type"
   ]
  },
  {
   "cell_type": "markdown",
   "id": "326a7156",
   "metadata": {},
   "source": [
    "When operating with arrays of different types, the type of the resulting array corresponds to the more general or precise one (a behavior known as **upcasting**)"
   ]
  },
  {
   "cell_type": "code",
   "execution_count": null,
   "id": "37e2d364",
   "metadata": {},
   "outputs": [
    {
     "name": "stdout",
     "output_type": "stream",
     "text": [
      "`a`\n",
      "[1 1 1]\n",
      "\n",
      "`b`\n",
      "[0.         1.57079633 3.14159265]\n",
      "Data Type: float64\n",
      "\n",
      "`c`\n",
      "[1.         2.57079633 4.14159265]\n",
      "Data Type: float64\n",
      "\n",
      "`d`\n",
      "[ 0.54030231+0.84147098j -0.84147098+0.54030231j -0.54030231-0.84147098j]\n",
      "Data Type: complex128\n"
     ]
    }
   ],
   "source": [
    "a = np.ones(3, dtype=np.int32)\n",
    "print(f\"`a`\\n{a}\\n\")\n",
    "\n",
    "b = np.linspace(0, pi, 3)\n",
    "print(f\"`b`\\n{b}\")\n",
    "print(f\"Data Type: {b.dtype.name}\\n\")\n",
    "\n",
    "c = a + b\n",
    "print(f\"`c`\\n{c}\")\n",
    "print(f\"Data Type: {c.dtype.name}\\n\")\n",
    "\n",
    "d = np.exp(c * 1j)\n",
    "print(f\"`d`\\n{d}\")\n",
    "print(f\"Data Type: {d.dtype.name}\")"
   ]
  },
  {
   "cell_type": "markdown",
   "id": "adec0d71",
   "metadata": {},
   "source": [
    "Many unary operations, such as computing the sun of all the elements in the array, are implemented as methods of the `ndarray` class."
   ]
  },
  {
   "cell_type": "code",
   "execution_count": null,
   "id": "e51ceb94",
   "metadata": {},
   "outputs": [
    {
     "name": "stdout",
     "output_type": "stream",
     "text": [
      "`a`:\n",
      "[[0.51606859 0.11586561 0.62348976]\n",
      " [0.77668311 0.6130033  0.9172977 ]]\n",
      "\n",
      "Sum: 3.5624080737423904\n",
      "Min: 0.11586561247077032\n",
      "Max: 0.9172977047909027\n"
     ]
    }
   ],
   "source": [
    "a = rg.random((2, 3))\n",
    "print(f\"`a`:\\n{a}\\n\")\n",
    "print(f\"Sum: {a.sum()}\")\n",
    "print(f\"Min: {a.min()}\")\n",
    "print(f\"Max: {a.max()}\")"
   ]
  },
  {
   "cell_type": "markdown",
   "id": "7e186300",
   "metadata": {},
   "source": [
    "By default, these operations apply to the array as though it were a list of numbers, regardless of its shape. However, by specifying the `axis` parameter you can apply an operation along the specified axis of an array:"
   ]
  },
  {
   "cell_type": "code",
   "execution_count": null,
   "id": "5c9e7bec",
   "metadata": {},
   "outputs": [
    {
     "name": "stdout",
     "output_type": "stream",
     "text": [
      "`b`\n",
      "[[ 0  1  2  3]\n",
      " [ 4  5  6  7]\n",
      " [ 8  9 10 11]]\n",
      "\n",
      "Sum of each column: [12 15 18 21]\n",
      "Min of each row:[0 4 8]\n",
      "Cumulative sum along each row:\n",
      "[[ 0  1  3  6]\n",
      " [ 4  9 15 22]\n",
      " [ 8 17 27 38]]\n"
     ]
    }
   ],
   "source": [
    "b = np.arange(12).reshape(3, 4)\n",
    "print(f\"`b`\\n{b}\\n\")\n",
    "\n",
    "print(f\"Sum of each column: {b.sum(axis=0)}\")\n",
    "print(f\"Min of each row:{b.min(axis=1)}\")\n",
    "print(f\"Cumulative sum along each row:\\n{b.cumsum(axis=1)}\")"
   ]
  },
  {
   "cell_type": "markdown",
   "id": "70f599d2",
   "metadata": {},
   "source": [
    "# Universal Functions\n",
    "\n",
    "NumPy provides familiar mathematical functions such as sin, cos, and exp. In NumPy, these are called \"universal functions\" (`ufunc`). Within NumPy, these functions operate elementwise on an array, producing an array as output."
   ]
  },
  {
   "cell_type": "code",
   "execution_count": null,
   "id": "13793fec",
   "metadata": {},
   "outputs": [
    {
     "name": "stdout",
     "output_type": "stream",
     "text": [
      "`b`:\n",
      "[0 1 2]\n",
      "\n",
      "np.exp(b)\n",
      "[1.         2.71828183 7.3890561 ]\n",
      "\n",
      "np.sqrt(b)\n",
      "[0.         1.         1.41421356]\n",
      "\n",
      "`c`\n",
      "[ 2. -1.  4.]\n",
      "\n",
      "np.add(b, c)\n",
      "[2. 0. 6.]\n"
     ]
    }
   ],
   "source": [
    "b = np.arange(3)\n",
    "print(f\"`b`:\\n{b}\\n\")\n",
    "print(f\"np.exp(b)\\n{np.exp(b)}\\n\")\n",
    "print(f\"np.sqrt(b)\\n{np.sqrt(b)}\\n\")\n",
    "\n",
    "c = np.array([2., -1., 4.])\n",
    "print(f\"`c`\\n{c}\\n\")\n",
    "print(f\"np.add(b, c)\\n{np.add(b, c)}\")"
   ]
  },
  {
   "cell_type": "markdown",
   "id": "4337d866",
   "metadata": {},
   "source": [
    "# Indexing, Slicing, and Iterating\n",
    "\n",
    "**One-dimensional** arrays can be indexed, sliced, and iterated over, much like lists and other Python sequences."
   ]
  },
  {
   "cell_type": "code",
   "execution_count": null,
   "id": "e25d31d6",
   "metadata": {},
   "outputs": [
    {
     "name": "stdout",
     "output_type": "stream",
     "text": [
      "`a`\n",
      "[  0   1   8  27  64 125 216 343 512 729]\n",
      "\n",
      "a[2]: 8\n",
      "a[2:5]: [ 8 27 64]\n",
      "a[:6:2] = 1000: [1000    1 1000   27 1000  125  216  343  512  729]\n",
      "\n",
      "Reversed `a`\n",
      "[1000    1 1000   27 1000  125  216  343  512  729]\n",
      "\n",
      "Looping through `a`\n",
      "9.999999999999998\n",
      "1.0\n",
      "9.999999999999998\n",
      "3.0\n",
      "9.999999999999998\n",
      "4.999999999999999\n",
      "5.999999999999999\n",
      "6.999999999999999\n",
      "7.999999999999999\n",
      "8.999999999999998\n"
     ]
    }
   ],
   "source": [
    "a = np.arange(10)**3\n",
    "print(f\"`a`\\n{a}\\n\")\n",
    "print(f\"a[2]: {a[2]}\")\n",
    "print(f\"a[2:5]: {a[2:5]}\")\n",
    "\n",
    "# Equivalent to a[0:6:2] = 1000;\n",
    "# from start to position 6, exclusive, set every 2nd element to 1000\n",
    "a[:6:2] = 1000\n",
    "print(f\"a[:6:2] = 1000: {a}\\n\")\n",
    "\n",
    "# Reversed `a`\n",
    "a[::-1]\n",
    "print(f\"Reversed `a`\\n{a}\\n\")\n",
    "\n",
    "print(\"Looping through `a`\")\n",
    "for i in a:\n",
    "    print(i**(1 / 3.))"
   ]
  },
  {
   "cell_type": "markdown",
   "id": "9e3d7bd8",
   "metadata": {},
   "source": [
    "**Multidimensional** arrays can have one index per axis. These indices are given in a tuple separated by commas:"
   ]
  },
  {
   "cell_type": "code",
   "execution_count": null,
   "id": "595548ad",
   "metadata": {},
   "outputs": [
    {
     "name": "stdout",
     "output_type": "stream",
     "text": [
      "`b`\n",
      "[[ 0  1  2  3]\n",
      " [10 11 12 13]\n",
      " [20 21 22 23]\n",
      " [30 31 32 33]\n",
      " [40 41 42 43]]\n",
      "\n",
      "b[2, 3]: 23\n",
      "\n",
      "b[0:5, 1]: [ 1 11 21 31 41]\n",
      "\n",
      "b[1:3, :]\n",
      "[[10 11 12 13]\n",
      " [20 21 22 23]]\n"
     ]
    }
   ],
   "source": [
    "def f(x, y):\n",
    "    return 10 * x + y\n",
    "\n",
    "b = np.fromfunction(f, (5, 4), dtype=int)\n",
    "print(f\"`b`\\n{b}\\n\")\n",
    "\n",
    "print(f\"b[2, 3]: {b[2, 3]}\\n\")\n",
    "print(f\"b[0:5, 1]: {b[0:5, 1]}\\n\") # Each row in the second column of b\n",
    "b[:, 1] # Equivalent to the previous example\n",
    "print(f\"b[1:3, :]\\n{b[1:3, :]}\") # Each column in the second and third row of b"
   ]
  },
  {
   "cell_type": "markdown",
   "id": "c92be8c2",
   "metadata": {},
   "source": [
    "When fewer indices are provided than the number of axes, the missing indices are considered complete slices`:`"
   ]
  },
  {
   "cell_type": "code",
   "execution_count": null,
   "id": "b943b43a",
   "metadata": {},
   "outputs": [
    {
     "data": {
      "text/plain": [
       "array([40, 41, 42, 43])"
      ]
     },
     "execution_count": 150,
     "metadata": {},
     "output_type": "execute_result"
    }
   ],
   "source": [
    "b[-1]"
   ]
  },
  {
   "cell_type": "markdown",
   "id": "a66be31e",
   "metadata": {},
   "source": [
    "The expression within brackets in `b[i]` is treated as an `i` followed by as many instances of `:` as needed to represent the remaining axes. NumPy also allows you to write this using dots as `b[i, ...]`.\n",
    "\n",
    "The **dots**(`...`) represent as many colons as needed to produce a complete indexing tuple. For example, if `x` is an array with 5 axes, then\n",
    "\n",
    "- `x[1, 2, ...]` is equivalent to `x[1, 2, :, :, :]`,\n",
    "- `x[..., 3]` to `x[:, :, :, :, 3] and\n",
    "- `x[4, ..., 5]` to `x[4, :, :, 5, :]`."
   ]
  },
  {
   "cell_type": "code",
   "execution_count": null,
   "id": "87840f94",
   "metadata": {},
   "outputs": [
    {
     "name": "stdout",
     "output_type": "stream",
     "text": [
      "`c` shape: (2, 2, 3)\n",
      "\n",
      "c[1, ...]\n",
      "[[100 101 102]\n",
      " [110 112 113]]\n",
      "\n",
      "c[..., 2]\n",
      "[[  2  13]\n",
      " [102 113]]\n"
     ]
    }
   ],
   "source": [
    "c = np.array([[[  0,  1,  2],  # a 3D array (two stacked 2D arrays)\n",
    "               [ 10, 12, 13]],\n",
    "              [[100, 101, 102],\n",
    "               [110, 112, 113]]])\n",
    "\n",
    "print(f\"`c` shape: {c.shape}\\n\")\n",
    "print(f\"c[1, ...]\\n{c[1, ...]}\\n\") # same as c[1, :, :] or c[1]\n",
    "print(f\"c[..., 2]\\n{c[..., 2]}\") # same as c[:, :, 2]"
   ]
  },
  {
   "cell_type": "markdown",
   "id": "2e739094",
   "metadata": {},
   "source": [
    "**Iterating** over multidimensional arrays is done with respect to the first axis:"
   ]
  },
  {
   "cell_type": "code",
   "execution_count": null,
   "id": "37d439c2",
   "metadata": {},
   "outputs": [
    {
     "name": "stdout",
     "output_type": "stream",
     "text": [
      "[0 1 2 3]\n",
      "[10 11 12 13]\n",
      "[20 21 22 23]\n",
      "[30 31 32 33]\n",
      "[40 41 42 43]\n"
     ]
    }
   ],
   "source": [
    "for row in b:\n",
    "    print(row)"
   ]
  },
  {
   "cell_type": "markdown",
   "id": "01a0b5c5",
   "metadata": {},
   "source": [
    "However, if one wants to perform an operation on each element in the array, one can use the `flat` attribute which is an iterator over all the elements of the array:"
   ]
  },
  {
   "cell_type": "code",
   "execution_count": null,
   "id": "83958c93",
   "metadata": {},
   "outputs": [
    {
     "name": "stdout",
     "output_type": "stream",
     "text": [
      "0\n",
      "1\n",
      "2\n",
      "3\n",
      "10\n",
      "11\n",
      "12\n",
      "13\n",
      "20\n",
      "21\n",
      "22\n",
      "23\n",
      "30\n",
      "31\n",
      "32\n",
      "33\n",
      "40\n",
      "41\n",
      "42\n",
      "43\n"
     ]
    }
   ],
   "source": [
    "for element in b.flat:\n",
    "    print(element)"
   ]
  },
  {
   "cell_type": "markdown",
   "id": "8939831a",
   "metadata": {},
   "source": [
    "# Shape Manipulation\n",
    "\n",
    "## Changing the shape of an array\n",
    "\n",
    "An array has a shape given by the number of elements along each axis:"
   ]
  },
  {
   "cell_type": "code",
   "execution_count": null,
   "id": "432041c3",
   "metadata": {},
   "outputs": [
    {
     "name": "stdout",
     "output_type": "stream",
     "text": [
      "`a`\n",
      "[[2. 2. 7. 2.]\n",
      " [4. 9. 9. 7.]\n",
      " [5. 2. 1. 9.]]\n",
      "\n",
      "Shape: (3, 4)\n"
     ]
    }
   ],
   "source": [
    "a = np.floor(10 * rg.random((3, 4)))\n",
    "print(f\"`a`\\n{a}\\n\")\n",
    "print(f\"Shape: {a.shape}\")"
   ]
  },
  {
   "cell_type": "markdown",
   "id": "10b3d69e",
   "metadata": {},
   "source": [
    "The shape of an array can be changed with various commands. Note that the following three commands all return a modified array, but do not change the original array:"
   ]
  },
  {
   "cell_type": "code",
   "execution_count": null,
   "id": "6cc8474c",
   "metadata": {},
   "outputs": [
    {
     "name": "stdout",
     "output_type": "stream",
     "text": [
      "`a` original\n",
      "[[2. 2. 7. 2.]\n",
      " [4. 9. 9. 7.]\n",
      " [5. 2. 1. 9.]]\n",
      "\n",
      "`a` flattened\n",
      "[2. 2. 7. 2. 4. 9. 9. 7. 5. 2. 1. 9.]\n",
      "\n",
      "`a` reshaped\n",
      "[[2. 2.]\n",
      " [7. 2.]\n",
      " [4. 9.]\n",
      " [9. 7.]\n",
      " [5. 2.]\n",
      " [1. 9.]]\n",
      "\n",
      "`a` transposed\n",
      "[[2. 4. 5.]\n",
      " [2. 9. 2.]\n",
      " [7. 9. 1.]\n",
      " [2. 7. 9.]]\n"
     ]
    }
   ],
   "source": [
    "print(f\"`a` original\\n{a}\\n\")\n",
    "\n",
    "print(f\"`a` flattened\\n{a.ravel()}\\n\") # Returns the array flattened\n",
    "\n",
    "print(f\"`a` reshaped\\n{a.reshape(6, 2)}\\n\")\n",
    "\n",
    "print(f\"`a` transposed\\n{a.T}\")"
   ]
  },
  {
   "cell_type": "markdown",
   "id": "b10f3100",
   "metadata": {},
   "source": [
    "The order of the elements in the array resulting from `ravel` is normally \"C-style\", that is, the rightmost index \"changes the fastest\", so the element after `a[0, 0]` is `a[0, 1]`. If the array is reshaped to some other shape, again the array is treated as \"C-style\". NumPy normally creates arrays stored in this order, so `ravel` will usually not need to copy its argument, but if the array was made by taking slices of another array or created with unusual options, it may need to be copied. The functions `ravel` and `reshape` can also be instructed, using an optional argument, to use FORTRAN-style arrays, in which the leftmost index changes the fastest.\n",
    "\n",
    "The `reshape` function returns its argument with a modified shape, whereas the `ndarray.resize` method modifies the array itself:"
   ]
  },
  {
   "cell_type": "code",
   "execution_count": null,
   "id": "72df2c06",
   "metadata": {},
   "outputs": [
    {
     "name": "stdout",
     "output_type": "stream",
     "text": [
      "`a`\n",
      "[[2. 2. 7. 2.]\n",
      " [4. 9. 9. 7.]\n",
      " [5. 2. 1. 9.]]\n",
      "\n",
      "`a` resized\n",
      "[[2. 2. 7. 2. 4. 9.]\n",
      " [9. 7. 5. 2. 1. 9.]]\n"
     ]
    }
   ],
   "source": [
    "print(f\"`a`\\n{a}\\n\")\n",
    "\n",
    "a.resize((2, 6))\n",
    "print(f\"`a` resized\\n{a}\")"
   ]
  },
  {
   "cell_type": "markdown",
   "id": "5a854ea8",
   "metadata": {},
   "source": [
    "If a dimension is given as `-1` in a reshaping operation, the other dimensions are automatically calculated:"
   ]
  },
  {
   "cell_type": "code",
   "execution_count": null,
   "id": "b495adfe",
   "metadata": {},
   "outputs": [
    {
     "data": {
      "text/plain": [
       "array([[2., 2., 7., 2.],\n",
       "       [4., 9., 9., 7.],\n",
       "       [5., 2., 1., 9.]])"
      ]
     },
     "execution_count": 169,
     "metadata": {},
     "output_type": "execute_result"
    }
   ],
   "source": [
    "a.reshape(3, -1)"
   ]
  },
  {
   "cell_type": "markdown",
   "id": "b7650db3",
   "metadata": {},
   "source": [
    "# Stacking Together Different Arrays\n",
    "\n",
    "Several arrays can be stacked together along different axes:"
   ]
  },
  {
   "cell_type": "code",
   "execution_count": null,
   "id": "9f1beb13",
   "metadata": {},
   "outputs": [
    {
     "name": "stdout",
     "output_type": "stream",
     "text": [
      "`a`\n",
      "[[8. 4.]\n",
      " [2. 0.]]\n",
      "\n",
      "`b`\n",
      "[[6. 7.]\n",
      " [8. 2.]]\n",
      "\n",
      "`a` and `b` vertically stacked\n",
      "[[8. 4.]\n",
      " [2. 0.]\n",
      " [6. 7.]\n",
      " [8. 2.]]\n",
      "\n",
      "`a` and `b` horizontally stacked\n",
      "[[8. 4. 6. 7.]\n",
      " [2. 0. 8. 2.]]\n",
      "\n"
     ]
    }
   ],
   "source": [
    "a = np.floor(10 * rg.random((2, 2)))\n",
    "print(f\"`a`\\n{a}\\n\")\n",
    "\n",
    "b = np.floor(10 * rg.random((2, 2)))\n",
    "print(f\"`b`\\n{b}\\n\")\n",
    "\n",
    "print(f\"`a` and `b` vertically stacked\\n{np.vstack((a, b))}\\n\")\n",
    "\n",
    "print(f\"`a` and `b` horizontally stacked\\n{np.hstack((a, b))}\\n\")"
   ]
  },
  {
   "cell_type": "markdown",
   "id": "ad087ddf",
   "metadata": {},
   "source": [
    "The function `column_stack` stacks 1D arrays as columns into a 2D array. It's equivalent to `hstack` only for 2D arrays:\n",
    "\n",
    "**Note**: `row_stack` is depreciated."
   ]
  },
  {
   "cell_type": "code",
   "execution_count": null,
   "id": "5242fbec",
   "metadata": {},
   "outputs": [
    {
     "name": "stdout",
     "output_type": "stream",
     "text": [
      "`a`\n",
      "[4. 2.]\n",
      "\n",
      "`b`\n",
      "[3. 8.]\n",
      "\n",
      "`a` and `b` with column_stack\n",
      "[[4. 3.]\n",
      " [2. 8.]]\n",
      "\n",
      "`a` and `b` with hstack\n",
      "[4. 2. 3. 8.]\n",
      "\n"
     ]
    },
    {
     "data": {
      "text/plain": [
       "array([[4., 3.],\n",
       "       [2., 8.]])"
      ]
     },
     "execution_count": 198,
     "metadata": {},
     "output_type": "execute_result"
    }
   ],
   "source": [
    "from numpy import newaxis\n",
    "\n",
    "a = np.array([4., 2.])\n",
    "b = np.array([3., 8.])\n",
    "\n",
    "c_stack = np.column_stack((a, b)) # Returns a 2D array\n",
    "h_stack = np.hstack((a, b)) # The result is different\n",
    "\n",
    "print(f\"`a`\\n{a}\\n\")\n",
    "print(f\"`b`\\n{b}\\n\")\n",
    "\n",
    "print(f\"`a` and `b` with column_stack\\n{c_stack}\\n\")\n",
    "print(f\"`a` and `b` with hstack\\n{h_stack}\\n\")\n",
    "\n",
    "a[:, newaxis] # View `a` as a 2D column vector\n",
    "\n",
    "np.column_stack((a[:, newaxis], b[:, newaxis])) # The result is the same as column_stack"
   ]
  },
  {
   "cell_type": "markdown",
   "id": "43122906",
   "metadata": {},
   "source": [
    "In general, for arrays with more than two dimensions, `hstack` stacks along their second axes, `vstack` stacks along their first axes, and `concatenate` allows for optional arguments giving the number of the axis along which the concatenation should happen.\n",
    "\n",
    "**Note**\n",
    "\n",
    "In complex cases, `r_` and `c_` are useful for creating arrays by stacking numbers along one axis. They allow the use of range literals `:`."
   ]
  },
  {
   "cell_type": "code",
   "execution_count": null,
   "id": "f6862137",
   "metadata": {},
   "outputs": [
    {
     "data": {
      "text/plain": [
       "array([1, 2, 3, 0, 4])"
      ]
     },
     "execution_count": 204,
     "metadata": {},
     "output_type": "execute_result"
    }
   ],
   "source": [
    "np.r_[1:4, 0, 4]"
   ]
  },
  {
   "cell_type": "markdown",
   "id": "44feab85",
   "metadata": {},
   "source": [
    "When used with arrays as arguments, `r_` and `c_` are similar to `vstack` and `hstack` in their default behavior, but allow for an optional argument giving the number of the axis along which to concatenate."
   ]
  },
  {
   "cell_type": "markdown",
   "id": "daffedf8",
   "metadata": {},
   "source": [
    "# Splitting one array into several smaller ones\n",
    "\n",
    "Using `hsplit`, you can split an array along its horizontal axis, either by specifying the number of equally shaped arrays to return, or by specifying the columns after which the division should occur:"
   ]
  },
  {
   "cell_type": "code",
   "execution_count": null,
   "id": "11794239",
   "metadata": {},
   "outputs": [
    {
     "name": "stdout",
     "output_type": "stream",
     "text": [
      "`a`\n",
      "[[2. 5. 8. 2. 2. 8. 7. 1. 8. 8. 1. 6.]\n",
      " [1. 2. 4. 5. 4. 5. 2. 7. 2. 9. 5. 3.]]\n",
      "\n",
      "`a` with hsplit\n",
      "[array([[2., 5., 8., 2.],\n",
      "       [1., 2., 4., 5.]]), array([[2., 8., 7., 1.],\n",
      "       [4., 5., 2., 7.]]), array([[8., 8., 1., 6.],\n",
      "       [2., 9., 5., 3.]])]\n",
      "\n",
      "`a` split after the third and fourth column\n",
      "[array([[2., 5., 8.],\n",
      "       [1., 2., 4.]]), array([[2.],\n",
      "       [5.]]), array([[2., 8., 7., 1., 8., 8., 1., 6.],\n",
      "       [4., 5., 2., 7., 2., 9., 5., 3.]])]\n"
     ]
    }
   ],
   "source": [
    "a = np.floor(10 * rg.random((2, 12)))\n",
    "print(f\"`a`\\n{a}\\n\")\n",
    "\n",
    "# Split `a` into 3\n",
    "a_split = np.hsplit(a, 3)\n",
    "print(f\"`a` with hsplit\\n{a_split}\\n\")\n",
    "\n",
    "# Split `a` after the third and fourth column\n",
    "a_split2 = np.hsplit(a, (3, 4))\n",
    "print(f\"`a` split after the third and fourth column\\n{a_split2}\")\n"
   ]
  },
  {
   "cell_type": "markdown",
   "id": "1a263d10",
   "metadata": {},
   "source": [
    "`vsplit` splits along the vertical axis, and `array_split` allows one to specify along which axis to split."
   ]
  },
  {
   "cell_type": "markdown",
   "id": "4833ef57",
   "metadata": {},
   "source": [
    "# Copies and Views\n",
    "\n",
    "When operating and manipulating arrays, their data is sometimes copied into a new array and sometimes not. This is often a source of confusion for beginners. There are three cases:\n",
    "\n",
    "## No copy at all\n",
    "\n",
    "Simple assignments make no copy of objects or their data."
   ]
  },
  {
   "cell_type": "code",
   "execution_count": null,
   "id": "425669dd",
   "metadata": {},
   "outputs": [
    {
     "data": {
      "text/plain": [
       "True"
      ]
     },
     "execution_count": 218,
     "metadata": {},
     "output_type": "execute_result"
    }
   ],
   "source": [
    "a = np.array([[ 0,  1,  2,  3],\n",
    "              [ 4,  5,  6,  7],\n",
    "              [ 8,  9, 10, 11]])\n",
    "\n",
    "b = a # No new object is created\n",
    "b is a # `a` and `b` are two names for the same ndarray object"
   ]
  },
  {
   "cell_type": "markdown",
   "id": "7526d94a",
   "metadata": {},
   "source": [
    "Python passes mutable objects as references, so function calls make no copy."
   ]
  },
  {
   "cell_type": "code",
   "execution_count": null,
   "id": "01e95d51",
   "metadata": {},
   "outputs": [
    {
     "data": {
      "text/plain": [
       "4652844304"
      ]
     },
     "execution_count": 219,
     "metadata": {},
     "output_type": "execute_result"
    }
   ],
   "source": [
    "def f(x):\n",
    "    print(id(x))\n",
    "\n",
    "id(a) # id is a unique identifier of an object"
   ]
  },
  {
   "cell_type": "markdown",
   "id": "62b3140d",
   "metadata": {},
   "source": [
    "## View or shallow copy\n",
    "\n",
    "Different array objects can share the same data. The `view` method creates a new array object that looks at the same data."
   ]
  },
  {
   "cell_type": "code",
   "execution_count": null,
   "id": "e8a1be1c",
   "metadata": {},
   "outputs": [
    {
     "name": "stdout",
     "output_type": "stream",
     "text": [
      "Does `c` share data with `a`?: False\n",
      "Is `c` a view of the data owned by `a`?: True\n",
      "Does `c` own its data?: False\n",
      "\n",
      "Display of changing `c` to affect `a`\n",
      "[[   0    1    2    3]\n",
      " [1234    5    6    7]\n",
      " [   8    9   10   11]]\n"
     ]
    }
   ],
   "source": [
    "c = a.view()\n",
    "print(f\"Does `c` share data with `a`?: {c is a}\")\n",
    "print(f\"Is `c` a view of the data owned by `a`?: {c.base is a}\")\n",
    "print(f\"Does `c` own its data?: {c.flags.owndata}\\n\")\n",
    "\n",
    "c = c.reshape((2, 6)) # `a`'s shape doesn't change, reassigned `c` is still a view of `a`\n",
    "c[0, 4] = 1234 # `a`'s data changes\n",
    "\n",
    "print(f\"Display of changing `c` to affect `a`\\n{a}\")"
   ]
  },
  {
   "cell_type": "markdown",
   "id": "9264e6d5",
   "metadata": {},
   "source": [
    "Slicing an array returns a view of it:"
   ]
  },
  {
   "cell_type": "code",
   "execution_count": null,
   "id": "060e0ae5",
   "metadata": {},
   "outputs": [
    {
     "data": {
      "text/plain": [
       "array([[   0,   10,   10,    3],\n",
       "       [1234,   10,   10,    7],\n",
       "       [   8,   10,   10,   11]])"
      ]
     },
     "execution_count": 234,
     "metadata": {},
     "output_type": "execute_result"
    }
   ],
   "source": [
    "s = a[:, 1:3]\n",
    "s[:] = 10 # s[:] is a view of s. Note the difference between s = 10 and s[:] = 10\n",
    "a"
   ]
  },
  {
   "cell_type": "markdown",
   "id": "2eb99e82",
   "metadata": {},
   "source": [
    "## Deep copy\n",
    "\n",
    "The `copy` method makes a complete copy of the array and its data."
   ]
  },
  {
   "cell_type": "code",
   "execution_count": null,
   "id": "f0e39c8f",
   "metadata": {},
   "outputs": [
    {
     "name": "stdout",
     "output_type": "stream",
     "text": [
      "Does `d` share data with `a`?: False\n"
     ]
    },
    {
     "data": {
      "text/plain": [
       "False"
      ]
     },
     "execution_count": 236,
     "metadata": {},
     "output_type": "execute_result"
    }
   ],
   "source": [
    "d = a.copy()\n",
    "print(f\"Does `d` share data with `a`?: {d is a}\")\n",
    "d.base is a"
   ]
  },
  {
   "cell_type": "markdown",
   "id": "4a7ab5f2",
   "metadata": {},
   "source": [
    "Sometimes `copy` should be called after slicing if the original array is not required anymore. For example, suppose `a` is a huge intermediate result and the final result `b` only contains a small fraction of `a`, a deep copy should be made when constructing `b` with slicing:"
   ]
  },
  {
   "cell_type": "code",
   "execution_count": null,
   "id": "95b174b1",
   "metadata": {},
   "outputs": [],
   "source": [
    "a = np.arange(int(1e8))\n",
    "b = a[:100].copy()\n",
    "del a # The memory of `a` can be released"
   ]
  },
  {
   "cell_type": "markdown",
   "id": "c39ac880",
   "metadata": {},
   "source": [
    "If `b = a[:100]` is used instead, `a` is referenced by `b` and will persist in memory even if `del a` is executed."
   ]
  },
  {
   "cell_type": "markdown",
   "id": "b926f5fd",
   "metadata": {},
   "source": [
    "# Functions and Methods Overview\n",
    "\n",
    "[Here](https://numpy.org/devdocs/reference/routines.html#routines) is a list of some useful NumPy functions and methods names ordered in categories"
   ]
  },
  {
   "cell_type": "markdown",
   "id": "6825eccd",
   "metadata": {},
   "source": [
    "# Less Basic\n",
    "\n",
    "## Broadcasting rules\n",
    "\n",
    "Broadcasting allows universal functions to deal in a meaningful way with inputs that do not have exactly the same shape.\n",
    "\n",
    "The first rule of broadcasting is that if all input arrays do not have the same number of dimensions, a \"1\" will be repeatedly prepended to the shapes of the smaller arrays until all the arrays have the same number of dimensions.\n",
    "\n",
    "The second rule of broadcasting ensures that arrays with a size of 1 along a particular dimension act as if they had the size of the array with the largest shape along that dimension. The value of the array element is assumed to be the same along that dimension for the \"broadcast\" array.\n",
    "\n",
    "After application of the broadcasting rules, the sizes of all arrays must match."
   ]
  },
  {
   "cell_type": "markdown",
   "id": "04df85d0",
   "metadata": {},
   "source": [
    "# Advanced Indexing and Index Tricks\n",
    "\n",
    "NumPy offers more indexing facilities than regular Python sequences. In addition to indexing by integers and slices, as we saw before, arrays can be indexed by arrays of integers and arrays of booleans.\n",
    "\n",
    "## Indexing with arrays of indices"
   ]
  },
  {
   "cell_type": "code",
   "execution_count": null,
   "id": "8b824751",
   "metadata": {},
   "outputs": [
    {
     "name": "stdout",
     "output_type": "stream",
     "text": [
      "`a`\n",
      "[  0   1   4   9  16  25  36  49  64  81 100 121]\n",
      "\n",
      "`i`\n",
      "[1 1 3 8 5]\n",
      "\n",
      "a[i]\n",
      "[ 1  1  9 64 25]\n",
      "\n",
      "`j`\n",
      "[[3 4]\n",
      " [9 7]]\n",
      "\n",
      "a[j]\n",
      "[[ 9 16]\n",
      " [81 49]]\n"
     ]
    }
   ],
   "source": [
    "a = np.arange(12)**2 # The first 12 square numbers\n",
    "i = np.array([1, 1, 3, 8, 5]) # An array of indices\n",
    "\n",
    "print(f\"`a`\\n{a}\\n\")\n",
    "print(f\"`i`\\n{i}\\n\")\n",
    "print(f\"a[i]\\n{a[i]}\\n\") # The elements of `a` at the positions `i`\n",
    "\n",
    "j = np.array([[3, 4], [9, 7]]) # A bidimensional array of indices\n",
    "print(f\"`j`\\n{j}\\n\")\n",
    "\n",
    "print(f\"a[j]\\n{a[j]}\") # The same shape as `j`"
   ]
  },
  {
   "cell_type": "markdown",
   "id": "54549326",
   "metadata": {},
   "source": [
    "When the indexed array `a` is multidimensional, a single array of indices refers to the first dimension of `a`. The following example shows this behavior by converting an image of labels into a color image using a palette."
   ]
  },
  {
   "cell_type": "code",
   "execution_count": null,
   "id": "c05479b9",
   "metadata": {},
   "outputs": [
    {
     "data": {
      "text/plain": [
       "array([[[  0,   0,   0],\n",
       "        [255,   0,   0],\n",
       "        [  0, 255,   0],\n",
       "        [  0,   0,   0]],\n",
       "\n",
       "       [[  0,   0,   0],\n",
       "        [  0,   0, 255],\n",
       "        [255, 255, 255],\n",
       "        [  0,   0,   0]]])"
      ]
     },
     "execution_count": 256,
     "metadata": {},
     "output_type": "execute_result"
    }
   ],
   "source": [
    "palette = np.array([[0, 0, 0],         # black\n",
    "                    [255, 0, 0],       # red\n",
    "                    [0, 255, 0],       # green\n",
    "                    [0, 0, 255],       # blue\n",
    "                    [255, 255, 255]])  # white\n",
    "image = np.array([[0, 1, 2, 0],  # each value corresponds to a color in the palette\n",
    "                  [0, 3, 4, 0]])\n",
    "\n",
    "palette[image] # The (2, 4, 3) color image"
   ]
  },
  {
   "cell_type": "markdown",
   "id": "08a37796",
   "metadata": {},
   "source": [
    "We can also give indices for more than one dimension. The arrays of indices for each dimension ust have the same shape."
   ]
  },
  {
   "cell_type": "code",
   "execution_count": null,
   "id": "6d30b64e",
   "metadata": {},
   "outputs": [
    {
     "name": "stdout",
     "output_type": "stream",
     "text": [
      "`a`\n",
      "[[ 0  1  2  3]\n",
      " [ 4  5  6  7]\n",
      " [ 8  9 10 11]]\n",
      "\n",
      "a[i, j]\n",
      "[[ 2  5]\n",
      " [ 7 11]]\n",
      "\n",
      "a[i, 2]\n",
      "[[ 2  6]\n",
      " [ 6 10]]\n",
      "\n",
      "a[:, j]\n",
      "[[ 2  5]\n",
      " [ 7 11]]\n"
     ]
    }
   ],
   "source": [
    "a = np.arange(12).reshape(3, 4)\n",
    "print(f\"`a`\\n{a}\\n\")\n",
    "\n",
    "i = np.array([[0, 1],\n",
    "              [1, 2]])\n",
    "\n",
    "j = np.array([[2, 1],\n",
    "              [3, 3]])\n",
    "\n",
    "print(f\"a[i, j]\\n{a[i, j]}\\n\")\n",
    "\n",
    "print(f\"a[i, 2]\\n{a[i, 2]}\\n\")\n",
    "\n",
    "print(f\"a[:, j]\\n{a[i, j]}\")"
   ]
  },
  {
   "cell_type": "markdown",
   "id": "2205be79",
   "metadata": {},
   "source": [
    "* `i[0,0], j[0,0]` → `(0, 2)` → `a[0, 2]` → `2`\n",
    "* `i[0,1], j[0,1]` → `(1, 1)` → `a[1, 1]` → `5`\n",
    "* `i[1,0], j[1,0]` → `(1, 3)` → `a[1, 3]` → `7`\n",
    "* `i[1,1], j[1,1]` → `(2, 3)` → `a[2, 3]` → `11`"
   ]
  },
  {
   "cell_type": "markdown",
   "id": "a4fb6ce5",
   "metadata": {},
   "source": [
    "In Python, `arr[i, j]` is exactly the same as `arr[(i, j)]`, so we can put `i` and `j` in a `tuple` and then do the indexing with that."
   ]
  },
  {
   "cell_type": "code",
   "execution_count": null,
   "id": "0b3f0b87",
   "metadata": {},
   "outputs": [
    {
     "data": {
      "text/plain": [
       "array([[ 2,  5],\n",
       "       [ 7, 11]])"
      ]
     },
     "execution_count": 266,
     "metadata": {},
     "output_type": "execute_result"
    }
   ],
   "source": [
    "l = (i, j)\n",
    "a[l] # Equivalent to a[i, j]"
   ]
  },
  {
   "cell_type": "markdown",
   "id": "c1e398a9",
   "metadata": {},
   "source": [
    "However, we can not do this by putting `i` and `j` into an array, because this array will be interpreted as indexing the first dimension of `a`."
   ]
  },
  {
   "cell_type": "code",
   "execution_count": null,
   "id": "ec4e530c",
   "metadata": {},
   "outputs": [
    {
     "name": "stdout",
     "output_type": "stream",
     "text": [
      "[[ 2  5]\n",
      " [ 7 11]]\n"
     ]
    },
    {
     "ename": "IndexError",
     "evalue": "index 3 is out of bounds for axis 0 with size 3",
     "output_type": "error",
     "traceback": [
      "\u001b[31m---------------------------------------------------------------------------\u001b[39m",
      "\u001b[31mIndexError\u001b[39m                                Traceback (most recent call last)",
      "\u001b[36mCell\u001b[39m\u001b[36m \u001b[39m\u001b[32mIn[269]\u001b[39m\u001b[32m, line 3\u001b[39m\n\u001b[32m      1\u001b[39m s = np.array([i, j]) \u001b[38;5;66;03m# Not what we want\u001b[39;00m\n\u001b[32m      2\u001b[39m \u001b[38;5;28mprint\u001b[39m(a[\u001b[38;5;28mtuple\u001b[39m(s)]) \u001b[38;5;66;03m# This works though\u001b[39;00m\n\u001b[32m----> \u001b[39m\u001b[32m3\u001b[39m \u001b[43ma\u001b[49m\u001b[43m[\u001b[49m\u001b[43ms\u001b[49m\u001b[43m]\u001b[49m\n",
      "\u001b[31mIndexError\u001b[39m: index 3 is out of bounds for axis 0 with size 3"
     ]
    }
   ],
   "source": [
    "s = np.array([i, j]) # Not what we want\n",
    "print(a[tuple(s)]) # This works though\n",
    "a[s]"
   ]
  },
  {
   "cell_type": "markdown",
   "id": "5a773b54",
   "metadata": {},
   "source": [
    "Another common use of indexing with arrays is the search of the maximum value of time-dependent series:"
   ]
  },
  {
   "cell_type": "code",
   "execution_count": null,
   "id": "68f8f12c",
   "metadata": {},
   "outputs": [
    {
     "name": "stdout",
     "output_type": "stream",
     "text": [
      "`time`\n",
      "[ 20.    51.25  82.5  113.75 145.  ]\n",
      "\n",
      "`data`\n",
      "[[ 0.          0.84147098  0.90929743  0.14112001]\n",
      " [-0.7568025  -0.95892427 -0.2794155   0.6569866 ]\n",
      " [ 0.98935825  0.41211849 -0.54402111 -0.99999021]\n",
      " [-0.53657292  0.42016704  0.99060736  0.65028784]\n",
      " [-0.28790332 -0.96139749 -0.75098725  0.14987721]]\n",
      "\n",
      "`ind`\n",
      "[2 0 3 1]\n",
      "\n",
      "`data_max`\n",
      "[0.98935825 0.84147098 0.99060736 0.6569866 ]\n",
      "\n",
      "`time_max`\n",
      "[ 82.5   20.   113.75  51.25]\n",
      "\n"
     ]
    },
    {
     "data": {
      "text/plain": [
       "np.True_"
      ]
     },
     "execution_count": 281,
     "metadata": {},
     "output_type": "execute_result"
    }
   ],
   "source": [
    "time = np.linspace(20, 145, 5) # Time scale\n",
    "data = np.sin(np.arange(20)).reshape(5, 4) # 4 time-dependent series\n",
    "\n",
    "print(f\"`time`\\n{time}\\n\")\n",
    "print(f\"`data`\\n{data}\\n\")\n",
    "\n",
    "# Index of the maxima for each series\n",
    "ind = data.argmax(axis=0)\n",
    "print(f\"`ind`\\n{ind}\\n\")\n",
    "\n",
    "data_max = data[ind, range(data.shape[1])]\n",
    "print(f\"`data_max`\\n{data_max}\\n\")\n",
    "\n",
    "time_max = time[ind]\n",
    "print(f\"`time_max`\\n{time_max}\\n\")\n",
    "\n",
    "np.all(data_max == data.max(axis=0))"
   ]
  },
  {
   "cell_type": "markdown",
   "id": "6cdde860",
   "metadata": {},
   "source": [
    "You can also use indexing with arrays as a target to assign to:"
   ]
  },
  {
   "cell_type": "code",
   "execution_count": null,
   "id": "85864e1c",
   "metadata": {},
   "outputs": [
    {
     "name": "stdout",
     "output_type": "stream",
     "text": [
      "`a`\n",
      "[0 1 2 3 4]\n"
     ]
    },
    {
     "data": {
      "text/plain": [
       "array([0, 0, 2, 0, 0])"
      ]
     },
     "execution_count": 292,
     "metadata": {},
     "output_type": "execute_result"
    }
   ],
   "source": [
    "a = np.arange(5)\n",
    "print(f\"`a`\\n{a}\")\n",
    "\n",
    "a[[1, 3, 4]] = 0\n",
    "a"
   ]
  },
  {
   "cell_type": "markdown",
   "id": "73af9050",
   "metadata": {},
   "source": [
    "However, when the list of indices contains repetitions, the assignment is done several times, leaving behind the last value:"
   ]
  },
  {
   "cell_type": "code",
   "execution_count": null,
   "id": "f6d2c5b0",
   "metadata": {},
   "outputs": [
    {
     "data": {
      "text/plain": [
       "array([2, 1, 3, 3, 4])"
      ]
     },
     "execution_count": 293,
     "metadata": {},
     "output_type": "execute_result"
    }
   ],
   "source": [
    "a = np.arange(5)\n",
    "a[[0, 0, 2]] = [1, 2, 3]\n",
    "a"
   ]
  },
  {
   "cell_type": "markdown",
   "id": "88ed4a97",
   "metadata": {},
   "source": [
    "This is reasonable enough, but watch out if you want to use Python's `+=` construct, as it may not do what you expect:"
   ]
  },
  {
   "cell_type": "code",
   "execution_count": null,
   "id": "1d7ea26b",
   "metadata": {},
   "outputs": [],
   "source": [
    "a = np.arange(5)\n",
    "a[[0, 0, 2]] += 1\n",
    "a"
   ]
  },
  {
   "cell_type": "markdown",
   "id": "d0694987",
   "metadata": {},
   "source": [
    "Even though 0 occurs twice in the list of indices, the 0th element is only incremented once. This is because Python requires `a += 1` to be equivalent to `a = a + 1`,."
   ]
  },
  {
   "cell_type": "markdown",
   "id": "e7b82f12",
   "metadata": {},
   "source": [
    "## Indexing with boolean arrays\n",
    "\n",
    "When we index arrays with arrays of (integer) indices, we are providing th list of indices to pick. With boolean indices the approach is different; we explicitly choose which items in the array we want and which ones we don't.\n",
    "\n",
    "The most natural way one can think of for boolean indexing is to use boolean arrays that have *the same shape* as the original array:"
   ]
  },
  {
   "cell_type": "code",
   "execution_count": null,
   "id": "fcb4a562",
   "metadata": {},
   "outputs": [
    {
     "name": "stdout",
     "output_type": "stream",
     "text": [
      "`a`\n",
      "[[ 0  1  2  3]\n",
      " [ 4  5  6  7]\n",
      " [ 8  9 10 11]]\n",
      "\n",
      "`b`\n",
      "[[False False False False]\n",
      " [False  True  True  True]\n",
      " [ True  True  True  True]]\n",
      "\n",
      "a[b]\n",
      "[ 5  6  7  8  9 10 11]\n"
     ]
    }
   ],
   "source": [
    "a = np.arange(12).reshape(3, 4)\n",
    "print(f\"`a`\\n{a}\\n\")\n",
    "\n",
    "b = a > 4\n",
    "print(f\"`b`\\n{b}\\n\")\n",
    "\n",
    "print(f\"a[b]\\n{a[b]}\") # 1D array with the selected elements (the values, not the indices)"
   ]
  },
  {
   "cell_type": "markdown",
   "id": "58bed9c4",
   "metadata": {},
   "source": [
    "This property can be very useful in assignments:"
   ]
  },
  {
   "cell_type": "code",
   "execution_count": null,
   "id": "176e8a93",
   "metadata": {},
   "outputs": [
    {
     "data": {
      "text/plain": [
       "array([[0, 1, 2, 3],\n",
       "       [4, 0, 0, 0],\n",
       "       [0, 0, 0, 0]])"
      ]
     },
     "execution_count": 41,
     "metadata": {},
     "output_type": "execute_result"
    }
   ],
   "source": [
    "a[b] = 0\n",
    "a"
   ]
  },
  {
   "cell_type": "markdown",
   "id": "bc8ca8a6",
   "metadata": {},
   "source": [
    "You can look at the following example to see how to use boolean indexing to generate an image of the Mandelbrot set:"
   ]
  },
  {
   "cell_type": "code",
   "execution_count": 7,
   "id": "047aafc4",
   "metadata": {},
   "outputs": [
    {
     "data": {
      "text/plain": [
       "<matplotlib.image.AxesImage at 0x10d28dbe0>"
      ]
     },
     "execution_count": 7,
     "metadata": {},
     "output_type": "execute_result"
    },
    {
     "data": {
      "image/png": "[encoded data removed]",
      "text/plain": [
       "<Figure size 640x480 with 1 Axes>"
      ]
     },
     "metadata": {},
     "output_type": "display_data"
    }
   ],
   "source": [
    "import matplotlib.pyplot as plt\n",
    "\n",
    "def mandelbrot(h, w, maxit=20, r=2):\n",
    "    \"\"\"Returns an image of the Mandelbrot fractal of size (h,w)\"\"\"\n",
    "    x = np.linspace(-2.5, 1.5, 4*h+1)\n",
    "    y = np.linspace(-1.5, 1.5, 3*w+1)\n",
    "    A, B = np.meshgrid(x, y)\n",
    "    C = A + B*1j\n",
    "    z = np.zeros_like(C)\n",
    "    divtime = maxit + np.zeros(z.shape, dtype=int)\n",
    "\n",
    "    for i in range(maxit):\n",
    "        z = z**2 + C\n",
    "        diverge = abs(z) > r\n",
    "        div_now = diverge & (divtime == maxit)\n",
    "        divtime[div_now] = i\n",
    "        z[diverge] = r\n",
    "\n",
    "    return divtime\n",
    "\n",
    "plt.clf()\n",
    "plt.imshow(mandelbrot(400, 400))\n"
   ]
  },
  {
   "cell_type": "markdown",
   "id": "492689df",
   "metadata": {},
   "source": [
    "The second way of indexing with booleans is more similar to integer indexing; for each dimension of the array we give a 1D boolean array selecting the slices we want:"
   ]
  },
  {
   "cell_type": "code",
   "execution_count": 11,
   "id": "e424fae4",
   "metadata": {},
   "outputs": [
    {
     "name": "stdout",
     "output_type": "stream",
     "text": [
      "`a`\n",
      "[[ 0  1  2  3]\n",
      " [ 4  5  6  7]\n",
      " [ 8  9 10 11]]\n",
      "\n",
      "a[b1, :]\n",
      "[[ 4  5  6  7]\n",
      " [ 8  9 10 11]]\n",
      "\n",
      "a[:, b2]\n",
      "[[ 0  2]\n",
      " [ 4  6]\n",
      " [ 8 10]]\n",
      "\n",
      "a[b1, b2]\n",
      "[ 4 10]\n"
     ]
    }
   ],
   "source": [
    "a = np.arange(12).reshape(3, 4)\n",
    "print(f\"`a`\\n{a}\\n\")\n",
    "\n",
    "b1 = np.array([False, True, True]) # First dim selection\n",
    "b2 = np.array([True, False, True, False]) # Second dim selection\n",
    "\n",
    "print(f\"a[b1, :]\\n{a[b1, :]}\\n\") # Selecting rows\n",
    "a[b1] # Same thing\n",
    "\n",
    "print(f\"a[:, b2]\\n{a[:, b2]}\\n\")\n",
    "\n",
    "print(f\"a[b1, b2]\\n{a[b1, b2]}\") # A weird thing to do"
   ]
  },
  {
   "cell_type": "markdown",
   "id": "3d64c21b",
   "metadata": {},
   "source": [
    "Not that the length of the 1D boolean array must coincide with the length of the dimension (or axis) you want to slice. In the previous example, `b1` has length 3 (the number of *rows* in `a`), and `b2` (of length 4) is suitable to index the 2nd axis (columns) of `a`."
   ]
  },
  {
   "cell_type": "markdown",
   "id": "d63ceaeb",
   "metadata": {},
   "source": [
    "# The ix_() Function\n",
    "\n",
    "The `ix_` function can be used to combine different vectors so as to obtain the result for each n-uplet. For example, if you want to compute all the a+b*x for all the triplets taken from each of the vectors a, b, and c:\n",
    "\n",
    "**Note:** \"N-uplet\" is mathematical terminology meaning \"a sequence of n elements\" - it's the generalized form of tuple, triple, quadruple, etc.:"
   ]
  },
  {
   "cell_type": "code",
   "execution_count": null,
   "id": "4536c776",
   "metadata": {},
   "outputs": [
    {
     "name": "stdout",
     "output_type": "stream",
     "text": [
      "`ax`\n",
      "[[[2]]\n",
      "\n",
      " [[3]]\n",
      "\n",
      " [[4]]\n",
      "\n",
      " [[5]]]\n",
      "Shape: (4, 1, 1)\n",
      "\n",
      "`ax`\n",
      "[[[8]\n",
      "  [5]\n",
      "  [4]]]\n",
      "Shape: (1, 3, 1)\n",
      "\n",
      "`ax`\n",
      "[[[5 4 6 8 3]]]\n",
      "Shape: (1, 1, 5)\n",
      "\n",
      "Result:\n",
      "[[[42 34 50 66 26]\n",
      "  [27 22 32 42 17]\n",
      "  [22 18 26 34 14]]\n",
      "\n",
      " [[43 35 51 67 27]\n",
      "  [28 23 33 43 18]\n",
      "  [23 19 27 35 15]]\n",
      "\n",
      " [[44 36 52 68 28]\n",
      "  [29 24 34 44 19]\n",
      "  [24 20 28 36 16]]\n",
      "\n",
      " [[45 37 53 69 29]\n",
      "  [30 25 35 45 20]\n",
      "  [25 21 29 37 17]]]\n"
     ]
    }
   ],
   "source": [
    "a = np.array([2, 3, 4, 5])\n",
    "b = np.array([8, 5, 4])\n",
    "c = np.array([5, 4, 6, 8, 3])\n",
    "\n",
    "ax, bx, cx = np.ix_(a, b, c)\n",
    "\n",
    "print(f\"`ax`\\n{ax}\\nShape: {ax.shape}\\n\")\n",
    "print(f\"`ax`\\n{bx}\\nShape: {bx.shape}\\n\")\n",
    "print(f\"`ax`\\n{cx}\\nShape: {cx.shape}\\n\")\n",
    "\n",
    "result = ax + bx * cx\n",
    "print(f\"Result:\\n{result}\")"
   ]
  },
  {
   "cell_type": "markdown",
   "id": "f0349f67",
   "metadata": {},
   "source": [
    "Essentially, the `ix_` function reshapes the data in a way that it can be computed with a function to produce every possible combination of that function's computation.\n",
    "\n",
    "Let's break down how the reshaping from the `ix_` function is working before moving on:"
   ]
  },
  {
   "cell_type": "code",
   "execution_count": null,
   "id": "6cf49959",
   "metadata": {},
   "outputs": [
    {
     "name": "stdout",
     "output_type": "stream",
     "text": [
      "Original:\n",
      "`a` Shape: (4,) - 4 elements\n",
      "`b` Shape: (3,) - 3 elements\n",
      "`c` Shape: (5,) - 4 elements\n",
      "\n",
      "The assignment order for `ax`, `bx`, and `cx` determines\n",
      "which dimension each array controls:\n",
      "\n",
      "After ix_:\n",
      "`ax` Shape: (4, 1, 1) - controls dimension 0\n",
      "`bx` Shape: (1, 3, 1) - controls dimension 1\n",
      "`cx` Shape: (1, 1, 5) - controls dimension 2\n"
     ]
    }
   ],
   "source": [
    "a = np.array([2, 3, 4, 5])\n",
    "b = np.array([8, 5, 4])\n",
    "c = np.array([5, 4, 6, 8, 3])\n",
    "\n",
    "print(\"Original:\")\n",
    "print(f\"`a` Shape: {a.shape} - 4 elements\")\n",
    "print(f\"`b` Shape: {b.shape} - 3 elements\")\n",
    "print(f\"`c` Shape: {c.shape} - 4 elements\\n\")\n",
    "\n",
    "print(\"The assignment order for `ax`, `bx`, and `cx` determines\\nwhich dimension each array controls:\\n\")\n",
    "\n",
    "print(\"After ix_:\")\n",
    "ax, bx, cx = np.ix_(a, b, c)\n",
    "print(f\"`ax` Shape: {ax.shape} - controls dimension 0\")\n",
    "print(f\"`bx` Shape: {bx.shape} - controls dimension 1\")\n",
    "print(f\"`cx` Shape: {cx.shape} - controls dimension 2\")"
   ]
  },
  {
   "cell_type": "markdown",
   "id": "379ac713",
   "metadata": {},
   "source": [
    "You could also implement the reduce as follows:"
   ]
  },
  {
   "cell_type": "code",
   "execution_count": null,
   "id": "915ee78e",
   "metadata": {},
   "outputs": [],
   "source": [
    "def ufunc_reduce(ufct, *vectors):\n",
    "    vs = np.ix_(*vectors)\n",
    "    r = ufct.identity\n",
    "    for v in vs:\n",
    "        r = ufct(r, v)\n",
    "    return r"
   ]
  },
  {
   "cell_type": "markdown",
   "id": "566df069",
   "metadata": {},
   "source": [
    "and then use it as:"
   ]
  },
  {
   "cell_type": "code",
   "execution_count": 37,
   "id": "d3891824",
   "metadata": {},
   "outputs": [
    {
     "data": {
      "text/plain": [
       "array([[[15, 14, 16, 18, 13],\n",
       "        [12, 11, 13, 15, 10],\n",
       "        [11, 10, 12, 14,  9]],\n",
       "\n",
       "       [[16, 15, 17, 19, 14],\n",
       "        [13, 12, 14, 16, 11],\n",
       "        [12, 11, 13, 15, 10]],\n",
       "\n",
       "       [[17, 16, 18, 20, 15],\n",
       "        [14, 13, 15, 17, 12],\n",
       "        [13, 12, 14, 16, 11]],\n",
       "\n",
       "       [[18, 17, 19, 21, 16],\n",
       "        [15, 14, 16, 18, 13],\n",
       "        [14, 13, 15, 17, 12]]])"
      ]
     },
     "execution_count": 37,
     "metadata": {},
     "output_type": "execute_result"
    }
   ],
   "source": [
    "ufunc_reduce(np.add, a, b, c)"
   ]
  },
  {
   "cell_type": "markdown",
   "id": "9ac9b14f",
   "metadata": {},
   "source": [
    "The advantage of this version ofd reduce compared to the normal ufunc.reduce is that it makes use of the broadcasting rules in order to avoid creating an argument array the size of the output times the number of vectors."
   ]
  },
  {
   "cell_type": "markdown",
   "id": "40931d68",
   "metadata": {},
   "source": [
    "# Tricks and Tips\n",
    "\n",
    "Here we give a list of short and useful tips.\n",
    "\n",
    "## \"Automatic\" reshaping\n",
    "\n",
    "To change the dimensions of an array, you can omit one of the sizes which will then be deduced automatically:"
   ]
  },
  {
   "cell_type": "code",
   "execution_count": null,
   "id": "1476c362",
   "metadata": {},
   "outputs": [
    {
     "name": "stdout",
     "output_type": "stream",
     "text": [
      "`a`\n",
      "[ 0  1  2  3  4  5  6  7  8  9 10 11 12 13 14 15 16 17 18 19 20 21 22 23\n",
      " 24 25 26 27 28 29]\n",
      "Shape: (30,)\n",
      "\n",
      "`b`\n",
      "[[[ 0  1  2]\n",
      "  [ 3  4  5]\n",
      "  [ 6  7  8]\n",
      "  [ 9 10 11]\n",
      "  [12 13 14]]\n",
      "\n",
      " [[15 16 17]\n",
      "  [18 19 20]\n",
      "  [21 22 23]\n",
      "  [24 25 26]\n",
      "  [27 28 29]]]\n",
      "Shape: (2, 5, 3)\n",
      "\n"
     ]
    }
   ],
   "source": [
    "a = np.arange(30)\n",
    "print(f\"`a`\\n{a}\")\n",
    "print(f\"Shape: {a.shape}\\n\")\n",
    "\n",
    "b = a.reshape((2, -1, 3)) # -1 means \"whatever is needed\"\n",
    "print(f\"`b`\\n{b}\")\n",
    "print(f\"Shape: {b.shape}\\n\")"
   ]
  },
  {
   "cell_type": "markdown",
   "id": "c5b17d34",
   "metadata": {},
   "source": [
    "## Vector stacking\n",
    "\n",
    "How do we construct a 2D array from a list of equally-sized row vectors? In MATLAB this is quite easy: if `x` and `y` are two vectors of the same length you only need fo `m=[x;y]`. In NumPy this works via the functions `column_stack`, `dstack`, `hstack`, and `vstack`, depending on the dimension in which the stacking is to be done For example:"
   ]
  },
  {
   "cell_type": "code",
   "execution_count": 40,
   "id": "dc6f10ec",
   "metadata": {},
   "outputs": [
    {
     "name": "stdout",
     "output_type": "stream",
     "text": [
      "`x`\n",
      "[0 2 4 6 8]\n",
      "\n",
      "`y`\n",
      "[0 1 2 3 4]\n",
      "\n",
      "`m`\n",
      "[[0 2 4 6 8]\n",
      " [0 1 2 3 4]]\n",
      "\n",
      "`xy`\n",
      "[0 2 4 6 8 0 1 2 3 4]\n"
     ]
    }
   ],
   "source": [
    "x = np.arange(0, 10, 2)\n",
    "print(f\"`x`\\n{x}\\n\")\n",
    "\n",
    "y = np.arange(5)\n",
    "print(f\"`y`\\n{y}\\n\")\n",
    "\n",
    "m = np.vstack([x, y])\n",
    "print(f\"`m`\\n{m}\\n\")\n",
    "\n",
    "xy = np.hstack([x, y])\n",
    "print(f\"`xy`\\n{xy}\")\n"
   ]
  },
  {
   "cell_type": "markdown",
   "id": "ca66c2e8",
   "metadata": {},
   "source": [
    "The logic behind those functions in more than two dimensions can be strange."
   ]
  },
  {
   "cell_type": "markdown",
   "id": "35118dca",
   "metadata": {},
   "source": [
    "## Histograms\n",
    "\n",
    "The NumPy `histogram` function applied to an array returns a pair of vectors: the histogram of the array and a vector of the bin edges. Beware: `matplotlib` also has a function to build histograms (called `hist`, as in Matlab) that differs from the one in NumPy. The main difference is that `pylab.hist` plots the histogram automatically, while `numpy.histogram` only generates the data."
   ]
  },
  {
   "cell_type": "code",
   "execution_count": 42,
   "id": "29276cca",
   "metadata": {},
   "outputs": [
    {
     "data": {
      "text/plain": [
       "[<matplotlib.lines.Line2D at 0x1131cc910>]"
      ]
     },
     "execution_count": 42,
     "metadata": {},
     "output_type": "execute_result"
    },
    {
     "data": {
      "image/png": "[encoded data removed]",
      "text/plain": [
       "<Figure size 640x480 with 1 Axes>"
      ]
     },
     "metadata": {},
     "output_type": "display_data"
    }
   ],
   "source": [
    "import matplotlib.pyplot as plt\n",
    "\n",
    "rg = np.random.default_rng(1)\n",
    "\n",
    "# Build a vector of 10000 normal deviates with variance 0.5^2 and mean 2\n",
    "mu, sigma = 2, 0.5\n",
    "v = rg.normal(mu, sigma, 10000)\n",
    "# Plot a normalized histogram with 50 bins\n",
    "plt.hist(v, bins=50, density=True)\n",
    "# Compute the histogram with numpy and then plot it\n",
    "(n, bins) = np.histogram(v, bins=50, density=True) # NumPy version (no plot)\n",
    "plt.plot(.5 * (bins[1:] + bins[:-1]), n)"
   ]
  }
 ],
 "metadata": {
  "kernelspec": {
   "display_name": "learning",
   "language": "python",
   "name": "python3"
  },
  "language_info": {
   "codemirror_mode": {
    "name": "ipython",
    "version": 3
   },
   "file_extension": ".py",
   "mimetype": "text/x-python",
   "name": "python",
   "nbconvert_exporter": "python",
   "pygments_lexer": "ipython3",
   "version": "3.13.5"
  }
 },
 "nbformat": 4,
 "nbformat_minor": 5
}
